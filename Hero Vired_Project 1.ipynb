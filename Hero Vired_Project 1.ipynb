{
 "cells": [
  {
   "cell_type": "markdown",
   "id": "c9a47971",
   "metadata": {},
   "source": [
    "## Project 1 : Case Study Retention Analysis "
   ]
  },
  {
   "cell_type": "markdown",
   "id": "904efb12",
   "metadata": {},
   "source": [
    "A Spanish Bank has been collecting data on multiple facets of customer behavior. Currently\n",
    "the data science team at the bank is trying to help in developing strategies to retain\n",
    "customers.\n",
    "A team of data warehousing experts have already collected data that the management\n",
    "thinks could be helpful in doing the relevant analysis.\n",
    "The dataset extracted has following variables:"
   ]
  },
  {
   "cell_type": "markdown",
   "id": "3ce1bbd6",
   "metadata": {},
   "source": [
    "This data has been extracted as a json file named ‘retention.json’. In order to study the\n",
    "behaviour of customers who become inactive, the data from datawarehouse was pulled for\n",
    "a duration of 6 months and within this duration it was observed which customers were\n",
    "active or inactive in the beginning of the six month window and which customers are\n",
    "active/inactive after the 6 month time window.\n",
    "You need to carry out the following tasks:"
   ]
  },
  {
   "cell_type": "markdown",
   "id": "2c7589b1",
   "metadata": {},
   "source": [
    "### Task 1. Data Quality Check"
   ]
  },
  {
   "cell_type": "markdown",
   "id": "97accec3",
   "metadata": {},
   "source": [
    "#### 1. Do you have all the relevant fields in the raw data file given to you?\n",
    "Yes"
   ]
  },
  {
   "cell_type": "markdown",
   "id": "3087520e",
   "metadata": {},
   "source": [
    "#### 2. Convert the given json data to a csv file"
   ]
  },
  {
   "cell_type": "code",
   "execution_count": 609,
   "id": "1b53e6fa",
   "metadata": {},
   "outputs": [],
   "source": [
    "import pandas as pd\n",
    "df = pd.read_json (r'E:\\HB^2\\Vired\\Project 1/retention.json', orient='index')\n",
    "df.to_csv (r'E:\\HB^2\\Vired\\Project 1/retention.csv', index = None)\n"
   ]
  },
  {
   "cell_type": "markdown",
   "id": "79056b19",
   "metadata": {},
   "source": [
    "#### 3. Create a data quality report (the format of this report must be decided by the learner) to check:"
   ]
  },
  {
   "cell_type": "markdown",
   "id": "21f4a2fb",
   "metadata": {},
   "source": [
    "##### a. The data type of each variable"
   ]
  },
  {
   "cell_type": "code",
   "execution_count": 37,
   "id": "d4e0635a",
   "metadata": {
    "collapsed": true
   },
   "outputs": [
    {
     "data": {
      "text/plain": [
       "gender                   object\n",
       "age                      object\n",
       "gross_income             object\n",
       "segment                  object\n",
       "num_credit_cards          int64\n",
       "tiprel_1mes              object\n",
       "ind_actividad_cliente     int64\n",
       "num_Products              int64\n",
       "num_loans                 int64\n",
       "duration                  int64\n",
       "dtype: object"
      ]
     },
     "execution_count": 37,
     "metadata": {},
     "output_type": "execute_result"
    }
   ],
   "source": [
    "import pandas as pd\n",
    "df = pd.read_csv(\"E:\\HB^2\\Vired\\Project 1/retention.csv\",usecols = ['gender','age','gross_income','segment','num_credit_cards','tiprel_1mes','ind_actividad_cliente','num_Products','num_loans','duration'])\n",
    "df.dtypes"
   ]
  },
  {
   "cell_type": "markdown",
   "id": "4b64bff1",
   "metadata": {},
   "source": [
    "#### b. If a variable is numeric in nature, then, the numeric summary (Min, Max, Mean,25th percentile, Median, 75th percentile, 90th percentile, 95th percentile, number of zeros and number of unique values, number of missing values,percentage of missing values) must be computed"
   ]
  },
  {
   "cell_type": "markdown",
   "id": "2f973efd",
   "metadata": {},
   "source": [
    ">+ Finding Min\n"
   ]
  },
  {
   "cell_type": "code",
   "execution_count": 456,
   "id": "0021794f",
   "metadata": {
    "collapsed": true
   },
   "outputs": [
    {
     "data": {
      "text/plain": [
       "num_credit_cards           0\n",
       "ind_actividad_cliente      0\n",
       "num_Products               0\n",
       "num_loans                  0\n",
       "duration                 366\n",
       "dtype: int64"
      ]
     },
     "execution_count": 456,
     "metadata": {},
     "output_type": "execute_result"
    }
   ],
   "source": [
    "import pandas as pd\n",
    "df = pd.read_csv(\"E:\\HB^2\\Vired\\Project 1/retention.csv\")\n",
    "num_vars=df.columns[df.dtypes != 'object']\n",
    "cat_vars=df.columns[df.dtypes == 'object']\n",
    "df[num_vars].min()"
   ]
  },
  {
   "cell_type": "markdown",
   "id": "fda983a7",
   "metadata": {},
   "source": [
    ">+ Finding Max"
   ]
  },
  {
   "cell_type": "code",
   "execution_count": 232,
   "id": "1a653140",
   "metadata": {
    "collapsed": true
   },
   "outputs": [
    {
     "data": {
      "text/plain": [
       "num_credit_cards            1.0\n",
       "ind_actividad_cliente       1.0\n",
       "num_Products               13.0\n",
       "num_loans                   1.0\n",
       "duration                 7909.0\n",
       "dtype: float64"
      ]
     },
     "execution_count": 232,
     "metadata": {},
     "output_type": "execute_result"
    }
   ],
   "source": [
    "import pandas as pd\n",
    "df = pd.read_csv(\"E:\\HB^2\\Vired\\Project 1/retention.csv\")\n",
    "num_vars=df.columns[df.dtypes != 'object']\n",
    "cat_vars=df.columns[df.dtypes == 'object']\n",
    "df[num_vars].max()"
   ]
  },
  {
   "cell_type": "markdown",
   "id": "2ca38d21",
   "metadata": {},
   "source": [
    ">+ Finding Mean"
   ]
  },
  {
   "cell_type": "code",
   "execution_count": 230,
   "id": "f64574ad",
   "metadata": {
    "collapsed": true
   },
   "outputs": [
    {
     "data": {
      "text/plain": [
       "num_credit_cards            0.049880\n",
       "ind_actividad_cliente       0.469072\n",
       "num_Products                1.536075\n",
       "num_loans                   0.009368\n",
       "duration                 2914.002388\n",
       "dtype: float64"
      ]
     },
     "execution_count": 230,
     "metadata": {},
     "output_type": "execute_result"
    }
   ],
   "source": [
    "import pandas as pd\n",
    "df = pd.read_csv(\"E:\\HB^2\\Vired\\Project 1/retention.csv\")\n",
    "num_vars=df.columns[df.dtypes != 'object']\n",
    "cat_vars=df.columns[df.dtypes == 'object']\n",
    "df[num_vars].mean()"
   ]
  },
  {
   "cell_type": "markdown",
   "id": "631d9cc9",
   "metadata": {},
   "source": [
    ">+ Finding the 25th Percentile"
   ]
  },
  {
   "cell_type": "code",
   "execution_count": 228,
   "id": "07fc4943",
   "metadata": {
    "collapsed": true
   },
   "outputs": [
    {
     "data": {
      "text/plain": [
       "num_credit_cards            0.0\n",
       "ind_actividad_cliente       0.0\n",
       "num_Products                1.0\n",
       "num_loans                   0.0\n",
       "duration                 1118.0\n",
       "Name: 0.25, dtype: float64"
      ]
     },
     "execution_count": 228,
     "metadata": {},
     "output_type": "execute_result"
    }
   ],
   "source": [
    "import pandas as pd\n",
    "df = pd.read_csv(\"E:\\HB^2\\Vired\\Project 1/retention.csv\")\n",
    "num_vars=df.columns[df.dtypes != 'object']\n",
    "cat_vars=df.columns[df.dtypes == 'object']\n",
    "df[num_vars].quantile(0.25)"
   ]
  },
  {
   "cell_type": "markdown",
   "id": "93f86a3e",
   "metadata": {},
   "source": [
    ">+ Finding Median"
   ]
  },
  {
   "cell_type": "code",
   "execution_count": 226,
   "id": "9ce6ddd7",
   "metadata": {
    "collapsed": true
   },
   "outputs": [
    {
     "data": {
      "text/plain": [
       "num_credit_cards            0.0\n",
       "ind_actividad_cliente       0.0\n",
       "num_Products                1.0\n",
       "num_loans                   0.0\n",
       "duration                 2040.0\n",
       "dtype: float64"
      ]
     },
     "execution_count": 226,
     "metadata": {},
     "output_type": "execute_result"
    }
   ],
   "source": [
    "import pandas as pd\n",
    "df = pd.read_csv(\"E:\\HB^2\\Vired\\Project 1/retention.csv\")\n",
    "num_vars=df.columns[df.dtypes != 'object']\n",
    "cat_vars=df.columns[df.dtypes == 'object']\n",
    "df[num_vars].median()"
   ]
  },
  {
   "cell_type": "markdown",
   "id": "673391b3",
   "metadata": {},
   "source": [
    ">+ Finding the 75th Percentile"
   ]
  },
  {
   "cell_type": "code",
   "execution_count": 511,
   "id": "c86025bd",
   "metadata": {
    "collapsed": true
   },
   "outputs": [
    {
     "data": {
      "text/plain": [
       "num_credit_cards            0.0\n",
       "ind_actividad_cliente       1.0\n",
       "num_Products                2.0\n",
       "num_loans                   0.0\n",
       "duration                 4693.0\n",
       "Name: 0.75, dtype: float64"
      ]
     },
     "execution_count": 511,
     "metadata": {},
     "output_type": "execute_result"
    }
   ],
   "source": [
    "import pandas as pd\n",
    "df = pd.read_csv(\"E:\\HB^2\\Vired\\Project 1/retention.csv\")\n",
    "num_vars=df.columns[df.dtypes != 'object']\n",
    "cat_vars=df.columns[df.dtypes == 'object']\n",
    "df[num_vars].quantile(0.75)"
   ]
  },
  {
   "cell_type": "markdown",
   "id": "4f87de9e",
   "metadata": {},
   "source": [
    ">+ Finding the 90th Percentile"
   ]
  },
  {
   "cell_type": "code",
   "execution_count": 221,
   "id": "689225e2",
   "metadata": {
    "collapsed": true
   },
   "outputs": [
    {
     "data": {
      "text/plain": [
       "num_credit_cards            0.0\n",
       "ind_actividad_cliente       1.0\n",
       "num_Products                3.0\n",
       "num_loans                   0.0\n",
       "duration                 5844.0\n",
       "Name: 0.9, dtype: float64"
      ]
     },
     "execution_count": 221,
     "metadata": {},
     "output_type": "execute_result"
    }
   ],
   "source": [
    "import pandas as pd\n",
    "df = pd.read_csv(\"E:\\HB^2\\Vired\\Project 1/retention.csv\")\n",
    "num_vars=df.columns[df.dtypes != 'object']\n",
    "cat_vars=df.columns[df.dtypes == 'object']\n",
    "df[num_vars].quantile(0.90)"
   ]
  },
  {
   "cell_type": "markdown",
   "id": "49731f0f",
   "metadata": {},
   "source": [
    ">+ Finding the 95th Percentile"
   ]
  },
  {
   "cell_type": "code",
   "execution_count": 512,
   "id": "a410f6b9",
   "metadata": {
    "collapsed": true
   },
   "outputs": [
    {
     "data": {
      "text/plain": [
       "num_credit_cards            0.0\n",
       "ind_actividad_cliente       1.0\n",
       "num_Products                5.0\n",
       "num_loans                   0.0\n",
       "duration                 6529.0\n",
       "Name: 0.95, dtype: float64"
      ]
     },
     "execution_count": 512,
     "metadata": {},
     "output_type": "execute_result"
    }
   ],
   "source": [
    "import pandas as pd\n",
    "df = pd.read_csv(\"E:\\HB^2\\Vired\\Project 1/retention.csv\")\n",
    "num_vars=df.columns[df.dtypes != 'object']\n",
    "cat_vars=df.columns[df.dtypes == 'object']\n",
    "df[num_vars].quantile(0.95)"
   ]
  },
  {
   "cell_type": "markdown",
   "id": "9916586b",
   "metadata": {},
   "source": [
    ">+ Finding the number of uniue values"
   ]
  },
  {
   "cell_type": "code",
   "execution_count": 218,
   "id": "2e056b56",
   "metadata": {},
   "outputs": [
    {
     "data": {
      "text/plain": [
       "num_credit_cards            2\n",
       "ind_actividad_cliente       2\n",
       "num_Products               14\n",
       "num_loans                   2\n",
       "duration                 5677\n",
       "dtype: int64"
      ]
     },
     "execution_count": 218,
     "metadata": {},
     "output_type": "execute_result"
    }
   ],
   "source": [
    "import pandas as pd\n",
    "df = pd.read_csv(\"E:\\HB^2\\Vired\\Project 1/retention.csv\")\n",
    "num_vars=df.columns[df.dtypes != 'object']\n",
    "cat_vars=df.columns[df.dtypes == 'object']\n",
    "df[num_vars].nunique()"
   ]
  },
  {
   "cell_type": "markdown",
   "id": "3d33acea",
   "metadata": {},
   "source": [
    ">+ Finding the number of missing values"
   ]
  },
  {
   "cell_type": "code",
   "execution_count": 457,
   "id": "9b5e970b",
   "metadata": {},
   "outputs": [
    {
     "name": "stdout",
     "output_type": "stream",
     "text": [
      "num_credit_cards         0\n",
      "ind_actividad_cliente    0\n",
      "num_Products             0\n",
      "num_loans                0\n",
      "duration                 0\n",
      "dtype: int64\n"
     ]
    }
   ],
   "source": [
    "# Finding no. of missing values\n",
    "import pandas as pd\n",
    "num_vars=df.columns[df.dtypes != 'object']\n",
    "cat_vars=df.columns[df.dtypes == 'object']\n",
    "df = pd.read_csv(\"E:\\HB^2\\Vired\\Project 1/retention.csv\")\n",
    "print(df[num_vars].isnull().sum())\n"
   ]
  },
  {
   "cell_type": "markdown",
   "id": "e02442c5",
   "metadata": {},
   "source": [
    ">+ Finding the percentage of missing values"
   ]
  },
  {
   "cell_type": "code",
   "execution_count": 273,
   "id": "9b8ec54d",
   "metadata": {},
   "outputs": [
    {
     "data": {
      "text/plain": [
       "duration                 0.012956\n",
       "num_Products             0.005552\n",
       "num_loans                0.005552\n",
       "num_credit_cards         0.000000\n",
       "ind_actividad_cliente    0.000000\n",
       "dtype: float64"
      ]
     },
     "execution_count": 273,
     "metadata": {},
     "output_type": "execute_result"
    }
   ],
   "source": [
    "import pandas as pd\n",
    "num_vars=df.columns[df.dtypes != 'object']\n",
    "cat_vars=df.columns[df.dtypes == 'object']\n",
    "df = pd.read_csv(\"E:\\HB^2\\Vired\\Project 1/retention.csv\")\n",
    "((df[num_vars].isnull().sum().sort_values(ascending=False))/len(df))*100\n"
   ]
  },
  {
   "cell_type": "markdown",
   "id": "35980632",
   "metadata": {},
   "source": [
    ">+ Finding the number of Zeroes"
   ]
  },
  {
   "cell_type": "code",
   "execution_count": 513,
   "id": "9fbc9bda",
   "metadata": {},
   "outputs": [
    {
     "data": {
      "text/plain": [
       "num_credit_cards         51335\n",
       "ind_actividad_cliente    28686\n",
       "num_Products              9573\n",
       "num_loans                53524\n",
       "duration                     0\n",
       "dtype: int64"
      ]
     },
     "execution_count": 513,
     "metadata": {},
     "output_type": "execute_result"
    }
   ],
   "source": [
    "import pandas as pd\n",
    "num_vars=df.columns[df.dtypes != 'object']\n",
    "cat_vars=df.columns[df.dtypes == 'object']\n",
    "df = pd.read_csv(\"E:\\HB^2\\Vired\\Project 1/retention.csv\")\n",
    "\n",
    "(df[num_vars]== 0).sum()"
   ]
  },
  {
   "cell_type": "markdown",
   "id": "7efa4e3f",
   "metadata": {},
   "source": [
    "#### b. If a variable is string variable, then find out the number of unique values,number of missing values, percentage of missing values."
   ]
  },
  {
   "cell_type": "markdown",
   "id": "96eee781",
   "metadata": {},
   "source": [
    ">+ Finding the number of uniue values"
   ]
  },
  {
   "cell_type": "code",
   "execution_count": 214,
   "id": "5024448c",
   "metadata": {
    "collapsed": true
   },
   "outputs": [
    {
     "data": {
      "text/plain": [
       "gender              2\n",
       "age               110\n",
       "gross_income    49994\n",
       "segment             3\n",
       "tiprel_1mes         2\n",
       "dtype: int64"
      ]
     },
     "execution_count": 214,
     "metadata": {},
     "output_type": "execute_result"
    }
   ],
   "source": [
    "import pandas as pd\n",
    "df = pd.read_csv(\"E:\\HB^2\\Vired\\Project 1/retention.csv\")\n",
    "num_vars=df.columns[df.dtypes != 'object']\n",
    "cat_vars=df.columns[df.dtypes == 'object']\n",
    "df[cat_vars].nunique()"
   ]
  },
  {
   "cell_type": "markdown",
   "id": "135f2533",
   "metadata": {},
   "source": [
    ">+ Finding the number of missing values"
   ]
  },
  {
   "cell_type": "code",
   "execution_count": 458,
   "id": "b37ab84c",
   "metadata": {},
   "outputs": [
    {
     "name": "stdout",
     "output_type": "stream",
     "text": [
      "gender          0\n",
      "age             0\n",
      "gross_income    0\n",
      "segment         0\n",
      "tiprel_1mes     0\n",
      "dtype: int64\n"
     ]
    }
   ],
   "source": [
    "import pandas as pd\n",
    "num_vars=df.columns[df.dtypes != 'object']\n",
    "cat_vars=df.columns[df.dtypes == 'object']\n",
    "df = pd.read_csv(\"E:\\HB^2\\Vired\\Project 1/retention.csv\")\n",
    "print(df[cat_vars].isnull().sum())"
   ]
  },
  {
   "cell_type": "markdown",
   "id": "ccaac095",
   "metadata": {},
   "source": [
    ">+ Finding the percentage of missing values"
   ]
  },
  {
   "cell_type": "code",
   "execution_count": 459,
   "id": "899d26f7",
   "metadata": {},
   "outputs": [
    {
     "data": {
      "text/plain": [
       "gender          0.0\n",
       "age             0.0\n",
       "gross_income    0.0\n",
       "segment         0.0\n",
       "tiprel_1mes     0.0\n",
       "dtype: float64"
      ]
     },
     "execution_count": 459,
     "metadata": {},
     "output_type": "execute_result"
    }
   ],
   "source": [
    "import pandas as pd\n",
    "num_vars=df.columns[df.dtypes != 'object']\n",
    "cat_vars=df.columns[df.dtypes == 'object']\n",
    "df = pd.read_csv(\"E:\\HB^2\\Vired\\Project 1/retention.csv\")\n",
    "((df[cat_vars].isnull().sum().sort_values(ascending=False))/len(df))*100"
   ]
  },
  {
   "cell_type": "markdown",
   "id": "6160da22",
   "metadata": {},
   "source": [
    "#### 4. After the data quality report is created you need to :"
   ]
  },
  {
   "cell_type": "markdown",
   "id": "773be235",
   "metadata": {},
   "source": [
    "##### a. Check if there is any variable whose data-type needs to be changed"
   ]
  },
  {
   "cell_type": "code",
   "execution_count": 610,
   "id": "dd755c6c",
   "metadata": {},
   "outputs": [
    {
     "data": {
      "text/html": [
       "<div>\n",
       "<style scoped>\n",
       "    .dataframe tbody tr th:only-of-type {\n",
       "        vertical-align: middle;\n",
       "    }\n",
       "\n",
       "    .dataframe tbody tr th {\n",
       "        vertical-align: top;\n",
       "    }\n",
       "\n",
       "    .dataframe thead th {\n",
       "        text-align: right;\n",
       "    }\n",
       "</style>\n",
       "<table border=\"1\" class=\"dataframe\">\n",
       "  <thead>\n",
       "    <tr style=\"text-align: right;\">\n",
       "      <th></th>\n",
       "      <th>gender</th>\n",
       "      <th>age</th>\n",
       "      <th>gross_income</th>\n",
       "      <th>segment</th>\n",
       "      <th>num_credit_cards</th>\n",
       "      <th>tiprel_1mes</th>\n",
       "      <th>ind_actividad_cliente</th>\n",
       "      <th>num_Products</th>\n",
       "      <th>num_loans</th>\n",
       "      <th>duration</th>\n",
       "    </tr>\n",
       "  </thead>\n",
       "  <tbody>\n",
       "    <tr>\n",
       "      <th>0</th>\n",
       "      <td>M</td>\n",
       "      <td>21</td>\n",
       "      <td>79070.91</td>\n",
       "      <td>Individuals</td>\n",
       "      <td>0</td>\n",
       "      <td>I</td>\n",
       "      <td>0</td>\n",
       "      <td>1</td>\n",
       "      <td>0</td>\n",
       "      <td>1035</td>\n",
       "    </tr>\n",
       "    <tr>\n",
       "      <th>1</th>\n",
       "      <td>M</td>\n",
       "      <td>23</td>\n",
       "      <td>178270.68</td>\n",
       "      <td>College_Graduated</td>\n",
       "      <td>0</td>\n",
       "      <td>I</td>\n",
       "      <td>0</td>\n",
       "      <td>1</td>\n",
       "      <td>0</td>\n",
       "      <td>1097</td>\n",
       "    </tr>\n",
       "    <tr>\n",
       "      <th>2</th>\n",
       "      <td>M</td>\n",
       "      <td>24</td>\n",
       "      <td>31243.56</td>\n",
       "      <td>College_Graduated</td>\n",
       "      <td>0</td>\n",
       "      <td>I</td>\n",
       "      <td>1</td>\n",
       "      <td>1</td>\n",
       "      <td>0</td>\n",
       "      <td>1866</td>\n",
       "    </tr>\n",
       "    <tr>\n",
       "      <th>3</th>\n",
       "      <td>M</td>\n",
       "      <td>24</td>\n",
       "      <td>130740.54</td>\n",
       "      <td>College_Graduated</td>\n",
       "      <td>0</td>\n",
       "      <td>I</td>\n",
       "      <td>0</td>\n",
       "      <td>1</td>\n",
       "      <td>0</td>\n",
       "      <td>1440</td>\n",
       "    </tr>\n",
       "    <tr>\n",
       "      <th>4</th>\n",
       "      <td>M</td>\n",
       "      <td>31</td>\n",
       "      <td>112975.17</td>\n",
       "      <td>Individuals</td>\n",
       "      <td>0</td>\n",
       "      <td>I</td>\n",
       "      <td>0</td>\n",
       "      <td>0</td>\n",
       "      <td>0</td>\n",
       "      <td>376</td>\n",
       "    </tr>\n",
       "    <tr>\n",
       "      <th>...</th>\n",
       "      <td>...</td>\n",
       "      <td>...</td>\n",
       "      <td>...</td>\n",
       "      <td>...</td>\n",
       "      <td>...</td>\n",
       "      <td>...</td>\n",
       "      <td>...</td>\n",
       "      <td>...</td>\n",
       "      <td>...</td>\n",
       "      <td>...</td>\n",
       "    </tr>\n",
       "    <tr>\n",
       "      <th>54025</th>\n",
       "      <td>M</td>\n",
       "      <td>24</td>\n",
       "      <td>47237.01</td>\n",
       "      <td>College_Graduated</td>\n",
       "      <td>0</td>\n",
       "      <td>I</td>\n",
       "      <td>1</td>\n",
       "      <td>1</td>\n",
       "      <td>0</td>\n",
       "      <td>1147</td>\n",
       "    </tr>\n",
       "    <tr>\n",
       "      <th>54026</th>\n",
       "      <td>F</td>\n",
       "      <td>46</td>\n",
       "      <td>106930.05</td>\n",
       "      <td>Individuals</td>\n",
       "      <td>1</td>\n",
       "      <td>A</td>\n",
       "      <td>1</td>\n",
       "      <td>8</td>\n",
       "      <td>0</td>\n",
       "      <td>6061</td>\n",
       "    </tr>\n",
       "    <tr>\n",
       "      <th>54027</th>\n",
       "      <td>M</td>\n",
       "      <td>24</td>\n",
       "      <td>185323.05</td>\n",
       "      <td>College_Graduated</td>\n",
       "      <td>0</td>\n",
       "      <td>I</td>\n",
       "      <td>0</td>\n",
       "      <td>0</td>\n",
       "      <td>0</td>\n",
       "      <td>1817</td>\n",
       "    </tr>\n",
       "    <tr>\n",
       "      <th>54028</th>\n",
       "      <td>F</td>\n",
       "      <td>27</td>\n",
       "      <td>65246.79</td>\n",
       "      <td>College_Graduated</td>\n",
       "      <td>0</td>\n",
       "      <td>I</td>\n",
       "      <td>0</td>\n",
       "      <td>1</td>\n",
       "      <td>0</td>\n",
       "      <td>1447</td>\n",
       "    </tr>\n",
       "    <tr>\n",
       "      <th>54029</th>\n",
       "      <td>M</td>\n",
       "      <td>20</td>\n",
       "      <td>180678.48</td>\n",
       "      <td>College_Graduated</td>\n",
       "      <td>0</td>\n",
       "      <td>A</td>\n",
       "      <td>0</td>\n",
       "      <td>1</td>\n",
       "      <td>0</td>\n",
       "      <td>366</td>\n",
       "    </tr>\n",
       "  </tbody>\n",
       "</table>\n",
       "<p>54030 rows × 10 columns</p>\n",
       "</div>"
      ],
      "text/plain": [
       "      gender  age  gross_income            segment  num_credit_cards  \\\n",
       "0          M   21      79070.91        Individuals                 0   \n",
       "1          M   23     178270.68  College_Graduated                 0   \n",
       "2          M   24      31243.56  College_Graduated                 0   \n",
       "3          M   24     130740.54  College_Graduated                 0   \n",
       "4          M   31     112975.17        Individuals                 0   \n",
       "...      ...  ...           ...                ...               ...   \n",
       "54025      M   24      47237.01  College_Graduated                 0   \n",
       "54026      F   46     106930.05        Individuals                 1   \n",
       "54027      M   24     185323.05  College_Graduated                 0   \n",
       "54028      F   27      65246.79  College_Graduated                 0   \n",
       "54029      M   20     180678.48  College_Graduated                 0   \n",
       "\n",
       "      tiprel_1mes  ind_actividad_cliente  num_Products  num_loans  duration  \n",
       "0               I                      0             1          0      1035  \n",
       "1               I                      0             1          0      1097  \n",
       "2               I                      1             1          0      1866  \n",
       "3               I                      0             1          0      1440  \n",
       "4               I                      0             0          0       376  \n",
       "...           ...                    ...           ...        ...       ...  \n",
       "54025           I                      1             1          0      1147  \n",
       "54026           A                      1             8          0      6061  \n",
       "54027           I                      0             0          0      1817  \n",
       "54028           I                      0             1          0      1447  \n",
       "54029           A                      0             1          0       366  \n",
       "\n",
       "[54030 rows x 10 columns]"
      ]
     },
     "execution_count": 610,
     "metadata": {},
     "output_type": "execute_result"
    }
   ],
   "source": [
    "import pandas as pd\n",
    "import numpy as np\n",
    "num_vars=df.columns[df.dtypes != 'object']\n",
    "cat_vars=df.columns[df.dtypes == 'object']\n",
    "df = pd.read_csv(\"E:\\HB^2\\Vired\\Project 1/retention.csv\")\n",
    "\n",
    "# Eliminating years and dollar sign from the columns\n",
    "df['age'] = df['age'].str.replace('years', '')\n",
    "df['gross_income'] = df['gross_income'].str.replace('$', '')\n",
    "\n",
    "# Changing age and Gross income \"data type\".\n",
    "df['age'] = df.age.astype(int)\n",
    "df['gross_income'] = df.gross_income.astype(float)\n",
    "df"
   ]
  },
  {
   "cell_type": "markdown",
   "id": "cd648fc3",
   "metadata": {},
   "source": [
    "##### b. Identify the type of data cleaning needed for different columns in the data"
   ]
  },
  {
   "cell_type": "code",
   "execution_count": 611,
   "id": "b184bf2b",
   "metadata": {},
   "outputs": [
    {
     "data": {
      "text/html": [
       "<div>\n",
       "<style scoped>\n",
       "    .dataframe tbody tr th:only-of-type {\n",
       "        vertical-align: middle;\n",
       "    }\n",
       "\n",
       "    .dataframe tbody tr th {\n",
       "        vertical-align: top;\n",
       "    }\n",
       "\n",
       "    .dataframe thead th {\n",
       "        text-align: right;\n",
       "    }\n",
       "</style>\n",
       "<table border=\"1\" class=\"dataframe\">\n",
       "  <thead>\n",
       "    <tr style=\"text-align: right;\">\n",
       "      <th></th>\n",
       "      <th>Gender</th>\n",
       "      <th>Age</th>\n",
       "      <th>Annual_Income</th>\n",
       "      <th>Segment</th>\n",
       "      <th>No._of_Credit_Cards</th>\n",
       "      <th>Cust_Inactivity_Flag_at_Beg</th>\n",
       "      <th>Cust_Inactivity_Flag_at_End</th>\n",
       "      <th>Num_Products</th>\n",
       "      <th>Num_loans</th>\n",
       "      <th>Duration</th>\n",
       "    </tr>\n",
       "  </thead>\n",
       "  <tbody>\n",
       "    <tr>\n",
       "      <th>0</th>\n",
       "      <td>M</td>\n",
       "      <td>21</td>\n",
       "      <td>79070.91</td>\n",
       "      <td>Individuals</td>\n",
       "      <td>0</td>\n",
       "      <td>0</td>\n",
       "      <td>0</td>\n",
       "      <td>1</td>\n",
       "      <td>0</td>\n",
       "      <td>1035</td>\n",
       "    </tr>\n",
       "    <tr>\n",
       "      <th>1</th>\n",
       "      <td>M</td>\n",
       "      <td>23</td>\n",
       "      <td>178270.68</td>\n",
       "      <td>College_Graduated</td>\n",
       "      <td>0</td>\n",
       "      <td>0</td>\n",
       "      <td>0</td>\n",
       "      <td>1</td>\n",
       "      <td>0</td>\n",
       "      <td>1097</td>\n",
       "    </tr>\n",
       "    <tr>\n",
       "      <th>2</th>\n",
       "      <td>M</td>\n",
       "      <td>24</td>\n",
       "      <td>31243.56</td>\n",
       "      <td>College_Graduated</td>\n",
       "      <td>0</td>\n",
       "      <td>0</td>\n",
       "      <td>1</td>\n",
       "      <td>1</td>\n",
       "      <td>0</td>\n",
       "      <td>1866</td>\n",
       "    </tr>\n",
       "    <tr>\n",
       "      <th>3</th>\n",
       "      <td>M</td>\n",
       "      <td>24</td>\n",
       "      <td>130740.54</td>\n",
       "      <td>College_Graduated</td>\n",
       "      <td>0</td>\n",
       "      <td>0</td>\n",
       "      <td>0</td>\n",
       "      <td>1</td>\n",
       "      <td>0</td>\n",
       "      <td>1440</td>\n",
       "    </tr>\n",
       "    <tr>\n",
       "      <th>4</th>\n",
       "      <td>M</td>\n",
       "      <td>31</td>\n",
       "      <td>112975.17</td>\n",
       "      <td>Individuals</td>\n",
       "      <td>0</td>\n",
       "      <td>0</td>\n",
       "      <td>0</td>\n",
       "      <td>0</td>\n",
       "      <td>0</td>\n",
       "      <td>376</td>\n",
       "    </tr>\n",
       "    <tr>\n",
       "      <th>...</th>\n",
       "      <td>...</td>\n",
       "      <td>...</td>\n",
       "      <td>...</td>\n",
       "      <td>...</td>\n",
       "      <td>...</td>\n",
       "      <td>...</td>\n",
       "      <td>...</td>\n",
       "      <td>...</td>\n",
       "      <td>...</td>\n",
       "      <td>...</td>\n",
       "    </tr>\n",
       "    <tr>\n",
       "      <th>54025</th>\n",
       "      <td>M</td>\n",
       "      <td>24</td>\n",
       "      <td>47237.01</td>\n",
       "      <td>College_Graduated</td>\n",
       "      <td>0</td>\n",
       "      <td>0</td>\n",
       "      <td>1</td>\n",
       "      <td>1</td>\n",
       "      <td>0</td>\n",
       "      <td>1147</td>\n",
       "    </tr>\n",
       "    <tr>\n",
       "      <th>54026</th>\n",
       "      <td>F</td>\n",
       "      <td>46</td>\n",
       "      <td>106930.05</td>\n",
       "      <td>Individuals</td>\n",
       "      <td>1</td>\n",
       "      <td>1</td>\n",
       "      <td>1</td>\n",
       "      <td>8</td>\n",
       "      <td>0</td>\n",
       "      <td>6061</td>\n",
       "    </tr>\n",
       "    <tr>\n",
       "      <th>54027</th>\n",
       "      <td>M</td>\n",
       "      <td>24</td>\n",
       "      <td>185323.05</td>\n",
       "      <td>College_Graduated</td>\n",
       "      <td>0</td>\n",
       "      <td>0</td>\n",
       "      <td>0</td>\n",
       "      <td>0</td>\n",
       "      <td>0</td>\n",
       "      <td>1817</td>\n",
       "    </tr>\n",
       "    <tr>\n",
       "      <th>54028</th>\n",
       "      <td>F</td>\n",
       "      <td>27</td>\n",
       "      <td>65246.79</td>\n",
       "      <td>College_Graduated</td>\n",
       "      <td>0</td>\n",
       "      <td>0</td>\n",
       "      <td>0</td>\n",
       "      <td>1</td>\n",
       "      <td>0</td>\n",
       "      <td>1447</td>\n",
       "    </tr>\n",
       "    <tr>\n",
       "      <th>54029</th>\n",
       "      <td>M</td>\n",
       "      <td>20</td>\n",
       "      <td>180678.48</td>\n",
       "      <td>College_Graduated</td>\n",
       "      <td>0</td>\n",
       "      <td>1</td>\n",
       "      <td>0</td>\n",
       "      <td>1</td>\n",
       "      <td>0</td>\n",
       "      <td>366</td>\n",
       "    </tr>\n",
       "  </tbody>\n",
       "</table>\n",
       "<p>54030 rows × 10 columns</p>\n",
       "</div>"
      ],
      "text/plain": [
       "      Gender  Age  Annual_Income            Segment  No._of_Credit_Cards  \\\n",
       "0          M   21       79070.91        Individuals                    0   \n",
       "1          M   23      178270.68  College_Graduated                    0   \n",
       "2          M   24       31243.56  College_Graduated                    0   \n",
       "3          M   24      130740.54  College_Graduated                    0   \n",
       "4          M   31      112975.17        Individuals                    0   \n",
       "...      ...  ...            ...                ...                  ...   \n",
       "54025      M   24       47237.01  College_Graduated                    0   \n",
       "54026      F   46      106930.05        Individuals                    1   \n",
       "54027      M   24      185323.05  College_Graduated                    0   \n",
       "54028      F   27       65246.79  College_Graduated                    0   \n",
       "54029      M   20      180678.48  College_Graduated                    0   \n",
       "\n",
       "       Cust_Inactivity_Flag_at_Beg  Cust_Inactivity_Flag_at_End  Num_Products  \\\n",
       "0                                0                            0             1   \n",
       "1                                0                            0             1   \n",
       "2                                0                            1             1   \n",
       "3                                0                            0             1   \n",
       "4                                0                            0             0   \n",
       "...                            ...                          ...           ...   \n",
       "54025                            0                            1             1   \n",
       "54026                            1                            1             8   \n",
       "54027                            0                            0             0   \n",
       "54028                            0                            0             1   \n",
       "54029                            1                            0             1   \n",
       "\n",
       "       Num_loans  Duration  \n",
       "0              0      1035  \n",
       "1              0      1097  \n",
       "2              0      1866  \n",
       "3              0      1440  \n",
       "4              0       376  \n",
       "...          ...       ...  \n",
       "54025          0      1147  \n",
       "54026          0      6061  \n",
       "54027          0      1817  \n",
       "54028          0      1447  \n",
       "54029          0       366  \n",
       "\n",
       "[54030 rows x 10 columns]"
      ]
     },
     "execution_count": 611,
     "metadata": {},
     "output_type": "execute_result"
    }
   ],
   "source": [
    "import pandas as pd\n",
    "import numpy as np\n",
    "num_vars=df.columns[df.dtypes != 'object']\n",
    "cat_vars=df.columns[df.dtypes == 'object']\n",
    "\n",
    "# Changing the names of Columns for easy reference\n",
    "df.rename(columns = {'gender':'Gender'}, inplace = True)\n",
    "df.rename(columns = {'age':'Age'}, inplace = True)\n",
    "df.rename(columns = {'gross_income':'Annual_Income'}, inplace = True)\n",
    "df.rename(columns = {'segment':'Segment'}, inplace = True)\n",
    "df.rename(columns = {'num_credit_cards':'No._of_Credit_Cards'}, inplace = True)\n",
    "df.rename(columns = {'tiprel_1mes':'Cust_Inactivity_Flag_at_Beg'}, inplace = True)\n",
    "df.rename(columns = {'ind_actividad_cliente':'Cust_Inactivity_Flag_at_End'}, inplace = True)\n",
    "df.rename(columns = {'num_loans':'Num_loans'}, inplace = True)\n",
    "df.rename(columns = {'duration':'Duration'}, inplace = True)\n",
    "df.rename(columns = {'num_Products':'Num_Products'}, inplace = True)\n",
    "\n",
    "# Maintaing uniformity of Customer In-activity data\n",
    "df['Cust_Inactivity_Flag_at_Beg'] = df['Cust_Inactivity_Flag_at_Beg'].str.replace('A', '1')\n",
    "df['Cust_Inactivity_Flag_at_Beg'] = df['Cust_Inactivity_Flag_at_Beg'].str.replace('I', '0')\n",
    "df['Cust_Inactivity_Flag_at_Beg'] = df.Cust_Inactivity_Flag_at_Beg.astype(int)\n",
    "df\n",
    "\n"
   ]
  },
  {
   "cell_type": "markdown",
   "id": "20cca10e",
   "metadata": {},
   "source": [
    "##### c. Handle missing data appropriately"
   ]
  },
  {
   "cell_type": "code",
   "execution_count": 593,
   "id": "6e485688",
   "metadata": {},
   "outputs": [
    {
     "name": "stdout",
     "output_type": "stream",
     "text": [
      "Gender                         0\n",
      "Age                            0\n",
      "Annual_Income                  0\n",
      "Segment                        0\n",
      "No._of_Credit_Cards            0\n",
      "Cust_Inactivity_Flag_at_Beg    0\n",
      "Cust_Inactivity_Flag_at_End    0\n",
      "Num_Products                   0\n",
      "Num_loans                      0\n",
      "Duration                       0\n",
      "dtype: int64\n"
     ]
    }
   ],
   "source": [
    "import pandas as pd\n",
    "import numpy as np\n",
    "\n",
    "# understanding if value is missing or not\n",
    "print(df.isnull().sum())\n",
    "\n",
    "# Dropping Values with Default Arguments\n",
    "df = df.dropna()\n",
    "\n",
    "# Dropping Records Only if All Records are Missing\n",
    "#df = df.dropna(how='all')\n",
    "\n",
    "# Using .fillna() to Fill Missing Data with 0\n",
    "#df = df.fillna(0)\n",
    "\n"
   ]
  },
  {
   "cell_type": "markdown",
   "id": "9029195a",
   "metadata": {},
   "source": [
    "##### d. In case there are extreme values present in a variable do the appropriate treatment."
   ]
  },
  {
   "cell_type": "code",
   "execution_count": 598,
   "id": "45943e41",
   "metadata": {},
   "outputs": [
    {
     "data": {
      "text/html": [
       "<div>\n",
       "<style scoped>\n",
       "    .dataframe tbody tr th:only-of-type {\n",
       "        vertical-align: middle;\n",
       "    }\n",
       "\n",
       "    .dataframe tbody tr th {\n",
       "        vertical-align: top;\n",
       "    }\n",
       "\n",
       "    .dataframe thead th {\n",
       "        text-align: right;\n",
       "    }\n",
       "</style>\n",
       "<table border=\"1\" class=\"dataframe\">\n",
       "  <thead>\n",
       "    <tr style=\"text-align: right;\">\n",
       "      <th></th>\n",
       "      <th>Age</th>\n",
       "      <th>Annual_Income</th>\n",
       "      <th>No._of_Credit_Cards</th>\n",
       "      <th>Cust_Inactivity_Flag_at_Beg</th>\n",
       "      <th>Cust_Inactivity_Flag_at_End</th>\n",
       "      <th>Num_Products</th>\n",
       "      <th>Num_loans</th>\n",
       "      <th>Duration</th>\n",
       "    </tr>\n",
       "  </thead>\n",
       "  <tbody>\n",
       "    <tr>\n",
       "      <th>count</th>\n",
       "      <td>54030.000000</td>\n",
       "      <td>5.403000e+04</td>\n",
       "      <td>54030.000000</td>\n",
       "      <td>54030.000000</td>\n",
       "      <td>54030.000000</td>\n",
       "      <td>54030.000000</td>\n",
       "      <td>54030.000000</td>\n",
       "      <td>54030.000000</td>\n",
       "    </tr>\n",
       "    <tr>\n",
       "      <th>mean</th>\n",
       "      <td>40.772534</td>\n",
       "      <td>1.341967e+05</td>\n",
       "      <td>0.049880</td>\n",
       "      <td>0.462780</td>\n",
       "      <td>0.469073</td>\n",
       "      <td>1.536017</td>\n",
       "      <td>0.009365</td>\n",
       "      <td>2913.936665</td>\n",
       "    </tr>\n",
       "    <tr>\n",
       "      <th>std</th>\n",
       "      <td>17.210781</td>\n",
       "      <td>2.397215e+05</td>\n",
       "      <td>0.217698</td>\n",
       "      <td>0.498617</td>\n",
       "      <td>0.499047</td>\n",
       "      <td>1.578848</td>\n",
       "      <td>0.096320</td>\n",
       "      <td>2027.956268</td>\n",
       "    </tr>\n",
       "    <tr>\n",
       "      <th>min</th>\n",
       "      <td>2.000000</td>\n",
       "      <td>2.336010e+03</td>\n",
       "      <td>0.000000</td>\n",
       "      <td>0.000000</td>\n",
       "      <td>0.000000</td>\n",
       "      <td>0.000000</td>\n",
       "      <td>0.000000</td>\n",
       "      <td>366.000000</td>\n",
       "    </tr>\n",
       "    <tr>\n",
       "      <th>25%</th>\n",
       "      <td>25.000000</td>\n",
       "      <td>6.858107e+04</td>\n",
       "      <td>0.000000</td>\n",
       "      <td>0.000000</td>\n",
       "      <td>0.000000</td>\n",
       "      <td>1.000000</td>\n",
       "      <td>0.000000</td>\n",
       "      <td>1118.000000</td>\n",
       "    </tr>\n",
       "    <tr>\n",
       "      <th>50%</th>\n",
       "      <td>40.000000</td>\n",
       "      <td>1.015663e+05</td>\n",
       "      <td>0.000000</td>\n",
       "      <td>0.000000</td>\n",
       "      <td>0.000000</td>\n",
       "      <td>1.000000</td>\n",
       "      <td>0.000000</td>\n",
       "      <td>2039.500000</td>\n",
       "    </tr>\n",
       "    <tr>\n",
       "      <th>75%</th>\n",
       "      <td>51.000000</td>\n",
       "      <td>1.562538e+05</td>\n",
       "      <td>0.000000</td>\n",
       "      <td>1.000000</td>\n",
       "      <td>1.000000</td>\n",
       "      <td>2.000000</td>\n",
       "      <td>0.000000</td>\n",
       "      <td>4693.000000</td>\n",
       "    </tr>\n",
       "    <tr>\n",
       "      <th>max</th>\n",
       "      <td>112.000000</td>\n",
       "      <td>2.889440e+07</td>\n",
       "      <td>1.000000</td>\n",
       "      <td>1.000000</td>\n",
       "      <td>1.000000</td>\n",
       "      <td>13.000000</td>\n",
       "      <td>1.000000</td>\n",
       "      <td>7909.000000</td>\n",
       "    </tr>\n",
       "  </tbody>\n",
       "</table>\n",
       "</div>"
      ],
      "text/plain": [
       "                Age  Annual_Income  No._of_Credit_Cards  \\\n",
       "count  54030.000000   5.403000e+04         54030.000000   \n",
       "mean      40.772534   1.341967e+05             0.049880   \n",
       "std       17.210781   2.397215e+05             0.217698   \n",
       "min        2.000000   2.336010e+03             0.000000   \n",
       "25%       25.000000   6.858107e+04             0.000000   \n",
       "50%       40.000000   1.015663e+05             0.000000   \n",
       "75%       51.000000   1.562538e+05             0.000000   \n",
       "max      112.000000   2.889440e+07             1.000000   \n",
       "\n",
       "       Cust_Inactivity_Flag_at_Beg  Cust_Inactivity_Flag_at_End  Num_Products  \\\n",
       "count                 54030.000000                 54030.000000  54030.000000   \n",
       "mean                      0.462780                     0.469073      1.536017   \n",
       "std                       0.498617                     0.499047      1.578848   \n",
       "min                       0.000000                     0.000000      0.000000   \n",
       "25%                       0.000000                     0.000000      1.000000   \n",
       "50%                       0.000000                     0.000000      1.000000   \n",
       "75%                       1.000000                     1.000000      2.000000   \n",
       "max                       1.000000                     1.000000     13.000000   \n",
       "\n",
       "          Num_loans      Duration  \n",
       "count  54030.000000  54030.000000  \n",
       "mean       0.009365   2913.936665  \n",
       "std        0.096320   2027.956268  \n",
       "min        0.000000    366.000000  \n",
       "25%        0.000000   1118.000000  \n",
       "50%        0.000000   2039.500000  \n",
       "75%        0.000000   4693.000000  \n",
       "max        1.000000   7909.000000  "
      ]
     },
     "execution_count": 598,
     "metadata": {},
     "output_type": "execute_result"
    }
   ],
   "source": [
    "df.describe()"
   ]
  },
  {
   "cell_type": "code",
   "execution_count": 600,
   "id": "e9b341e5",
   "metadata": {},
   "outputs": [
    {
     "name": "stdout",
     "output_type": "stream",
     "text": [
      "Age                               26.0000\n",
      "Annual_Income                  87672.6825\n",
      "No._of_Credit_Cards                0.0000\n",
      "Cust_Inactivity_Flag_at_Beg        1.0000\n",
      "Cust_Inactivity_Flag_at_End        1.0000\n",
      "Num_Products                       1.0000\n",
      "Num_loans                          0.0000\n",
      "Duration                        3575.0000\n",
      "dtype: float64\n"
     ]
    }
   ],
   "source": [
    "#Identifying Outliers with Interquartile Range (IQR)\n",
    "Q1 = df.quantile(0.25)\n",
    "Q3 = df.quantile(0.75)\n",
    "IQR = Q3 - Q1\n",
    "print(IQR)\n"
   ]
  },
  {
   "cell_type": "code",
   "execution_count": 601,
   "id": "76f59145",
   "metadata": {},
   "outputs": [
    {
     "name": "stdout",
     "output_type": "stream",
     "text": [
      "56.42473063434132\n"
     ]
    },
    {
     "data": {
      "text/plain": [
       "count    5.403000e+04\n",
       "mean     1.341967e+05\n",
       "std      2.397215e+05\n",
       "min      2.336010e+03\n",
       "25%      6.858107e+04\n",
       "50%      1.015663e+05\n",
       "75%      1.562538e+05\n",
       "max      2.889440e+07\n",
       "Name: Annual_Income, dtype: float64"
      ]
     },
     "execution_count": 601,
     "metadata": {},
     "output_type": "execute_result"
    }
   ],
   "source": [
    "#Identifying Outliers with Skewness\n",
    "#skewness value explains the extent to which the data is normally distributed. Value should be between -1 and +1,\n",
    "print(df['Annual_Income'].skew())\n",
    "df['Annual_Income'].describe()\n",
    "\n",
    "# The value 56.4 indicates that Income' has a right-skewed distribution, indicating the presence of extreme higher values"
   ]
  },
  {
   "cell_type": "code",
   "execution_count": 602,
   "id": "96af062d",
   "metadata": {},
   "outputs": [
    {
     "name": "stdout",
     "output_type": "stream",
     "text": [
      "0.546552977324306\n"
     ]
    },
    {
     "data": {
      "text/plain": [
       "count    54030.000000\n",
       "mean      2913.936665\n",
       "std       2027.956268\n",
       "min        366.000000\n",
       "25%       1118.000000\n",
       "50%       2039.500000\n",
       "75%       4693.000000\n",
       "max       7909.000000\n",
       "Name: Duration, dtype: float64"
      ]
     },
     "execution_count": 602,
     "metadata": {},
     "output_type": "execute_result"
    }
   ],
   "source": [
    "#Identifying Outliers with Skewness\n",
    "print(df['Duration'].skew())\n",
    "df['Duration'].describe()"
   ]
  },
  {
   "cell_type": "code",
   "execution_count": 579,
   "id": "bb79fdab",
   "metadata": {},
   "outputs": [
    {
     "data": {
      "image/png": "[encoded data removed]",
      "text/plain": [
       "<Figure size 432x288 with 1 Axes>"
      ]
     },
     "metadata": {
      "needs_background": "light"
     },
     "output_type": "display_data"
    }
   ],
   "source": [
    "#Identifying Outliers by Box plot, the circles indicate the outliers\n",
    "plt.boxplot(df[\"Annual_Income\"])\n",
    "plt.show()"
   ]
  },
  {
   "cell_type": "code",
   "execution_count": 589,
   "id": "3847dc4b",
   "metadata": {},
   "outputs": [
    {
     "data": {
      "image/png": "[encoded data removed]",
      "text/plain": [
       "<Figure size 1080x432 with 1 Axes>"
      ]
     },
     "metadata": {
      "needs_background": "light"
     },
     "output_type": "display_data"
    }
   ],
   "source": [
    "#Checking outlier through Scatter plot b/w two data sets\n",
    "fig, ax = plt.subplots(figsize=(15,6))\n",
    "ax.scatter(df['Age'], df['Annual_Income'])\n",
    "ax.set_xlabel('Age')\n",
    "ax.set_ylabel('Annual Income in Lakhs')\n",
    "plt.show()"
   ]
  },
  {
   "cell_type": "markdown",
   "id": "f260ef51",
   "metadata": {},
   "source": [
    "### Task 2. Data Exploration and Business Hypothesis Testing"
   ]
  },
  {
   "cell_type": "markdown",
   "id": "215942c0",
   "metadata": {},
   "source": [
    "#### 1. For people who were inactive at the start of the study and were active by the time the study ended, is there a pattern in terms of age and gender?"
   ]
  },
  {
   "cell_type": "code",
   "execution_count": 619,
   "id": "e95817c8",
   "metadata": {
    "collapsed": true
   },
   "outputs": [
    {
     "name": "stdout",
     "output_type": "stream",
     "text": [
      "contingency_table :-\n",
      " Cust_Inactivity_Flag_at_End  0   1\n",
      "Age                               \n",
      "2                            0   5\n",
      "3                            1   4\n",
      "4                            3  12\n",
      "5                            2  11\n",
      "6                            1  11\n",
      "..                          ..  ..\n",
      "107                          1   1\n",
      "108                          1   0\n",
      "110                          1   0\n",
      "111                          2   0\n",
      "112                          1   1\n",
      "\n",
      "[110 rows x 2 columns]\n",
      "Observed Values :-\n",
      " [[   0    5]\n",
      " [   1    4]\n",
      " [   3   12]\n",
      " [   2   11]\n",
      " [   1   11]\n",
      " [   0    8]\n",
      " [   2   15]\n",
      " [   3   19]\n",
      " [   5   33]\n",
      " [  12   37]\n",
      " [  20   37]\n",
      " [  13   43]\n",
      " [  19   44]\n",
      " [  17   39]\n",
      " [  15   36]\n",
      " [  13   40]\n",
      " [  22   35]\n",
      " [  25   59]\n",
      " [ 603  491]\n",
      " [1596  757]\n",
      " [2023  808]\n",
      " [2211  869]\n",
      " [2097  766]\n",
      " [1377  442]\n",
      " [1062  362]\n",
      " [ 855  277]\n",
      " [ 648  334]\n",
      " [ 501  340]\n",
      " [ 410  345]\n",
      " [ 347  317]\n",
      " [ 330  349]\n",
      " [ 316  332]\n",
      " [ 320  389]\n",
      " [ 313  392]\n",
      " [ 349  479]\n",
      " [ 409  485]\n",
      " [ 404  536]\n",
      " [ 439  590]\n",
      " [ 502  638]\n",
      " [ 519  750]\n",
      " [ 501  814]\n",
      " [ 539  800]\n",
      " [ 540  789]\n",
      " [ 554  810]\n",
      " [ 483  796]\n",
      " [ 449  712]\n",
      " [ 455  671]\n",
      " [ 408  583]\n",
      " [ 411  572]\n",
      " [ 402  543]\n",
      " [ 333  487]\n",
      " [ 332  464]\n",
      " [ 298  411]\n",
      " [ 285  356]\n",
      " [ 253  352]\n",
      " [ 273  332]\n",
      " [ 233  285]\n",
      " [ 213  280]\n",
      " [ 208  262]\n",
      " [ 201  232]\n",
      " [ 226  201]\n",
      " [ 171  179]\n",
      " [ 200  177]\n",
      " [ 172  181]\n",
      " [ 163  181]\n",
      " [ 155  164]\n",
      " [ 164  147]\n",
      " [ 147  179]\n",
      " [ 149  153]\n",
      " [ 152  134]\n",
      " [ 139  128]\n",
      " [ 141  126]\n",
      " [ 127  115]\n",
      " [ 110   99]\n",
      " [  88  104]\n",
      " [ 100  115]\n",
      " [  82   66]\n",
      " [  88   74]\n",
      " [  90   61]\n",
      " [  99   89]\n",
      " [  63   57]\n",
      " [  60   68]\n",
      " [  61   81]\n",
      " [  53   57]\n",
      " [  49   41]\n",
      " [  51   43]\n",
      " [  49   37]\n",
      " [  48   41]\n",
      " [  42   27]\n",
      " [  44   22]\n",
      " [  27   24]\n",
      " [  34   16]\n",
      " [  23   13]\n",
      " [  11    8]\n",
      " [  26    9]\n",
      " [  23   10]\n",
      " [  14    7]\n",
      " [  14    7]\n",
      " [  11    2]\n",
      " [   4    5]\n",
      " [  13    2]\n",
      " [  11    1]\n",
      " [   6    1]\n",
      " [   3    3]\n",
      " [   2    0]\n",
      " [   1    1]\n",
      " [   1    0]\n",
      " [   1    0]\n",
      " [   2    0]\n",
      " [   1    1]]\n",
      "Expected Values :-\n",
      " [[2.65463631e+00 2.34536369e+00]\n",
      " [2.65463631e+00 2.34536369e+00]\n",
      " [7.96390894e+00 7.03609106e+00]\n",
      " [6.90205441e+00 6.09794559e+00]\n",
      " [6.37112715e+00 5.62887285e+00]\n",
      " [4.24741810e+00 3.75258190e+00]\n",
      " [9.02576346e+00 7.97423654e+00]\n",
      " [1.16803998e+01 1.03196002e+01]\n",
      " [2.01752360e+01 1.78247640e+01]\n",
      " [2.60154359e+01 2.29845641e+01]\n",
      " [3.02628540e+01 2.67371460e+01]\n",
      " [2.97319267e+01 2.62680733e+01]\n",
      " [3.34484175e+01 2.95515825e+01]\n",
      " [2.97319267e+01 2.62680733e+01]\n",
      " [2.70772904e+01 2.39227096e+01]\n",
      " [2.81391449e+01 2.48608551e+01]\n",
      " [3.02628540e+01 2.67371460e+01]\n",
      " [4.45978901e+01 3.94021099e+01]\n",
      " [5.80834425e+02 5.13165575e+02]\n",
      " [1.24927185e+03 1.10372815e+03]\n",
      " [1.50305508e+03 1.32794492e+03]\n",
      " [1.63525597e+03 1.44474403e+03]\n",
      " [1.52004475e+03 1.34295525e+03]\n",
      " [9.65756691e+02 8.53243309e+02]\n",
      " [7.56040422e+02 6.67959578e+02]\n",
      " [6.01009661e+02 5.30990339e+02]\n",
      " [5.21370572e+02 4.60629428e+02]\n",
      " [4.46509828e+02 3.94490172e+02]\n",
      " [4.00850083e+02 3.54149917e+02]\n",
      " [3.52535702e+02 3.11464298e+02]\n",
      " [3.60499611e+02 3.18500389e+02]\n",
      " [3.44040866e+02 3.03959134e+02]\n",
      " [3.76427429e+02 3.32572571e+02]\n",
      " [3.74303720e+02 3.30696280e+02]\n",
      " [4.39607773e+02 3.88392227e+02]\n",
      " [4.74648973e+02 4.19351027e+02]\n",
      " [4.99071627e+02 4.40928373e+02]\n",
      " [5.46324153e+02 4.82675847e+02]\n",
      " [6.05257079e+02 5.34742921e+02]\n",
      " [6.73746696e+02 5.95253304e+02]\n",
      " [6.98169350e+02 6.16830650e+02]\n",
      " [7.10911605e+02 6.28088395e+02]\n",
      " [7.05602332e+02 6.23397668e+02]\n",
      " [7.24184786e+02 6.39815214e+02]\n",
      " [6.79055969e+02 5.99944031e+02]\n",
      " [6.16406552e+02 5.44593448e+02]\n",
      " [5.97824098e+02 5.28175902e+02]\n",
      " [5.26148917e+02 4.64851083e+02]\n",
      " [5.21901499e+02 4.61098501e+02]\n",
      " [5.01726263e+02 4.43273737e+02]\n",
      " [4.35360355e+02 3.84639645e+02]\n",
      " [4.22618101e+02 3.73381899e+02]\n",
      " [3.76427429e+02 3.32572571e+02]\n",
      " [3.40324375e+02 3.00675625e+02]\n",
      " [3.21210994e+02 2.83789006e+02]\n",
      " [3.21210994e+02 2.83789006e+02]\n",
      " [2.75020322e+02 2.42979678e+02]\n",
      " [2.61747140e+02 2.31252860e+02]\n",
      " [2.49535813e+02 2.20464187e+02]\n",
      " [2.29891505e+02 2.03108495e+02]\n",
      " [2.26705941e+02 2.00294059e+02]\n",
      " [1.85824542e+02 1.64175458e+02]\n",
      " [2.00159578e+02 1.76840422e+02]\n",
      " [1.87417324e+02 1.65582676e+02]\n",
      " [1.82638978e+02 1.61361022e+02]\n",
      " [1.69365797e+02 1.49634203e+02]\n",
      " [1.65118379e+02 1.45881621e+02]\n",
      " [1.73082288e+02 1.52917712e+02]\n",
      " [1.60340033e+02 1.41659967e+02]\n",
      " [1.51845197e+02 1.34154803e+02]\n",
      " [1.41757579e+02 1.25242421e+02]\n",
      " [1.41757579e+02 1.25242421e+02]\n",
      " [1.28484398e+02 1.13515602e+02]\n",
      " [1.10963798e+02 9.80362021e+01]\n",
      " [1.01938034e+02 9.00619656e+01]\n",
      " [1.14149361e+02 1.00850639e+02]\n",
      " [7.85772349e+01 6.94227651e+01]\n",
      " [8.60102165e+01 7.59897835e+01]\n",
      " [8.01700167e+01 7.08299833e+01]\n",
      " [9.98143254e+01 8.81856746e+01]\n",
      " [6.37112715e+01 5.62887285e+01]\n",
      " [6.79586896e+01 6.00413104e+01]\n",
      " [7.53916713e+01 6.66083287e+01]\n",
      " [5.84019989e+01 5.15980011e+01]\n",
      " [4.77834536e+01 4.22165464e+01]\n",
      " [4.99071627e+01 4.40928373e+01]\n",
      " [4.56597446e+01 4.03402554e+01]\n",
      " [4.72525264e+01 4.17474736e+01]\n",
      " [3.66339811e+01 3.23660189e+01]\n",
      " [3.50411993e+01 3.09588007e+01]\n",
      " [2.70772904e+01 2.39227096e+01]\n",
      " [2.65463631e+01 2.34536369e+01]\n",
      " [1.91133815e+01 1.68866185e+01]\n",
      " [1.00876180e+01 8.91238201e+00]\n",
      " [1.85824542e+01 1.64175458e+01]\n",
      " [1.75205997e+01 1.54794003e+01]\n",
      " [1.11494725e+01 9.85052748e+00]\n",
      " [1.11494725e+01 9.85052748e+00]\n",
      " [6.90205441e+00 6.09794559e+00]\n",
      " [4.77834536e+00 4.22165464e+00]\n",
      " [7.96390894e+00 7.03609106e+00]\n",
      " [6.37112715e+00 5.62887285e+00]\n",
      " [3.71649084e+00 3.28350916e+00]\n",
      " [3.18556358e+00 2.81443642e+00]\n",
      " [1.06185453e+00 9.38145475e-01]\n",
      " [1.06185453e+00 9.38145475e-01]\n",
      " [5.30927263e-01 4.69072737e-01]\n",
      " [5.30927263e-01 4.69072737e-01]\n",
      " [1.06185453e+00 9.38145475e-01]\n",
      " [1.06185453e+00 9.38145475e-01]]\n",
      "Degree of Freedom:- 1\n",
      "chi-square statistic:- 4112.753849905546\n",
      "critical_value: 3.841458820694124\n",
      "p-value: 0.0\n",
      "Significance level:  0.05\n",
      "Degree of Freedom:  1\n",
      "chi-square statistic: 4112.753849905546\n",
      "critical_value: 3.841458820694124\n",
      "p-value: 0.0\n",
      "Reject H0,There is a relationship between 2 categorical variables\n",
      "Reject H0,There is a relationship between 2 categorical variables\n"
     ]
    }
   ],
   "source": [
    "import statsmodels.api as sm\n",
    "from scipy import stats \n",
    "contingency_table=pd.crosstab(df[\"Age\"],df[\"Cust_Inactivity_Flag_at_End\"])\n",
    "print('contingency_table :-\\n',contingency_table)\n",
    "#Observed Values\n",
    "Observed_Values = contingency_table.values \n",
    "print(\"Observed Values :-\\n\",Observed_Values)\n",
    "b=stats.chi2_contingency(contingency_table)\n",
    "Expected_Values = b[3]\n",
    "print(\"Expected Values :-\\n\",Expected_Values)\n",
    "no_of_rows=len(contingency_table.iloc[0:2,0])\n",
    "no_of_columns=len(contingency_table.iloc[0,0:2])\n",
    "ddof=(no_of_rows-1)*(no_of_columns-1)\n",
    "print(\"Degree of Freedom:-\",ddof)\n",
    "alpha = 0.05\n",
    "from scipy.stats import chi2\n",
    "chi_square=sum([(o-e)**2./e for o,e in zip(Observed_Values,Expected_Values)])\n",
    "chi_square_statistic=chi_square[0]+chi_square[1]\n",
    "print(\"chi-square statistic:-\",chi_square_statistic)\n",
    "critical_value=chi2.ppf(q=1-alpha,df=ddof)\n",
    "print('critical_value:',critical_value)\n",
    "#p-value\n",
    "p_value=1-chi2.cdf(x=chi_square_statistic,df=ddof)\n",
    "print('p-value:',p_value)\n",
    "print('Significance level: ',alpha)\n",
    "print('Degree of Freedom: ',ddof)\n",
    "print('chi-square statistic:',chi_square_statistic)\n",
    "print('critical_value:',critical_value)\n",
    "print('p-value:',p_value)\n",
    "if chi_square_statistic>=critical_value:\n",
    "    print(\"Reject H0,There is a relationship between 2 categorical variables\")\n",
    "else:\n",
    "    print(\"Retain H0,There is no relationship between 2 categorical variables\")\n",
    "    \n",
    "if p_value<=alpha:\n",
    "    print(\"Reject H0,There is a relationship between 2 categorical variables\")\n",
    "else:\n",
    "    print(\"Retain H0,There is no relationship between 2 categorical variables\")"
   ]
  },
  {
   "cell_type": "code",
   "execution_count": 620,
   "id": "00503408",
   "metadata": {
    "collapsed": true
   },
   "outputs": [
    {
     "name": "stdout",
     "output_type": "stream",
     "text": [
      "contingency_table :-\n",
      " Cust_Inactivity_Flag_at_End      0      1\n",
      "Gender                                   \n",
      "F                            15030  14651\n",
      "M                            13656  10693\n",
      "Observed Values :-\n",
      " [[15030 14651]\n",
      " [13656 10693]]\n",
      "Expected Values :-\n",
      " [[15758.45208218 13922.54791782]\n",
      " [12927.54791782 11421.45208218]]\n",
      "Degree of Freedom:- 1\n",
      "chi-square statistic:- 159.29497204752982\n",
      "critical_value: 3.841458820694124\n",
      "p-value: 0.0\n",
      "Significance level:  0.05\n",
      "Degree of Freedom:  1\n",
      "chi-square statistic: 159.29497204752982\n",
      "critical_value: 3.841458820694124\n",
      "p-value: 0.0\n",
      "Reject H0,There is a relationship between 2 categorical variables\n",
      "Reject H0,There is a relationship between 2 categorical variables\n"
     ]
    }
   ],
   "source": [
    "import statsmodels.api as sm\n",
    "from scipy import stats \n",
    "contingency_table=pd.crosstab(df[\"Gender\"],df[\"Cust_Inactivity_Flag_at_End\"])\n",
    "print('contingency_table :-\\n',contingency_table)\n",
    "#Observed Values\n",
    "Observed_Values = contingency_table.values \n",
    "print(\"Observed Values :-\\n\",Observed_Values)\n",
    "b=stats.chi2_contingency(contingency_table)\n",
    "Expected_Values = b[3]\n",
    "print(\"Expected Values :-\\n\",Expected_Values)\n",
    "no_of_rows=len(contingency_table.iloc[0:2,0])\n",
    "no_of_columns=len(contingency_table.iloc[0,0:2])\n",
    "ddof=(no_of_rows-1)*(no_of_columns-1)\n",
    "print(\"Degree of Freedom:-\",ddof)\n",
    "alpha = 0.05\n",
    "from scipy.stats import chi2\n",
    "chi_square=sum([(o-e)**2./e for o,e in zip(Observed_Values,Expected_Values)])\n",
    "chi_square_statistic=chi_square[0]+chi_square[1]\n",
    "print(\"chi-square statistic:-\",chi_square_statistic)\n",
    "critical_value=chi2.ppf(q=1-alpha,df=ddof)\n",
    "print('critical_value:',critical_value)\n",
    "#p-value\n",
    "p_value=1-chi2.cdf(x=chi_square_statistic,df=ddof)\n",
    "print('p-value:',p_value)\n",
    "print('Significance level: ',alpha)\n",
    "print('Degree of Freedom: ',ddof)\n",
    "print('chi-square statistic:',chi_square_statistic)\n",
    "print('critical_value:',critical_value)\n",
    "print('p-value:',p_value)\n",
    "if chi_square_statistic>=critical_value:\n",
    "    print(\"Reject H0,There is a relationship between 2 categorical variables\")\n",
    "else:\n",
    "    print(\"Retain H0,There is no relationship between 2 categorical variables\")\n",
    "    \n",
    "if p_value<=alpha:\n",
    "    print(\"Reject H0,There is a relationship between 2 categorical variables\")\n",
    "else:\n",
    "    print(\"Retain H0,There is no relationship between 2 categorical variables\")"
   ]
  },
  {
   "cell_type": "markdown",
   "id": "f697e9be",
   "metadata": {},
   "source": [
    "#### 2. Do people with more than average annual income tend to have relatively high activity rates compared to people with less than average annual income?"
   ]
  },
  {
   "cell_type": "code",
   "execution_count": 618,
   "id": "cb0d3936",
   "metadata": {
    "collapsed": true
   },
   "outputs": [
    {
     "name": "stdout",
     "output_type": "stream",
     "text": [
      "contingency_table :-\n",
      " Cust_Inactivity_Flag_at_End  0  1\n",
      "Annual_Income                    \n",
      "2336.01                      1  0\n",
      "5340.93                      0  1\n",
      "6313.20                      1  0\n",
      "7074.66                      1  0\n",
      "8552.88                      0  1\n",
      "...                         .. ..\n",
      "11267056.83                  1  0\n",
      "11804014.98                  1  0\n",
      "13268621.28                  0  1\n",
      "17804048.10                  1  0\n",
      "28894395.51                  1  0\n",
      "\n",
      "[49994 rows x 2 columns]\n",
      "Observed Values :-\n",
      " [[1 0]\n",
      " [0 1]\n",
      " [1 0]\n",
      " ...\n",
      " [0 1]\n",
      " [1 0]\n",
      " [1 0]]\n",
      "Expected Values :-\n",
      " [[0.53092726 0.46907274]\n",
      " [0.53092726 0.46907274]\n",
      " [0.53092726 0.46907274]\n",
      " ...\n",
      " [0.53092726 0.46907274]\n",
      " [0.53092726 0.46907274]\n",
      " [0.53092726 0.46907274]]\n",
      "Degree of Freedom:- 1\n",
      "chi-square statistic:- 52120.88088996652\n",
      "critical_value: 3.841458820694124\n",
      "p-value: 0.0\n",
      "Significance level:  0.05\n",
      "Degree of Freedom:  1\n",
      "chi-square statistic: 52120.88088996652\n",
      "critical_value: 3.841458820694124\n",
      "p-value: 0.0\n",
      "Reject H0,There is a relationship between 2 categorical variables\n",
      "Reject H0,There is a relationship between 2 categorical variables\n"
     ]
    }
   ],
   "source": [
    "import statsmodels.api as sm\n",
    "from scipy import stats \n",
    "contingency_table=pd.crosstab(df[\"Annual_Income\"],df[\"Cust_Inactivity_Flag_at_End\"])\n",
    "print('contingency_table :-\\n',contingency_table)\n",
    "#Observed Values\n",
    "Observed_Values = contingency_table.values \n",
    "print(\"Observed Values :-\\n\",Observed_Values)\n",
    "b=stats.chi2_contingency(contingency_table)\n",
    "Expected_Values = b[3]\n",
    "print(\"Expected Values :-\\n\",Expected_Values)\n",
    "no_of_rows=len(contingency_table.iloc[0:2,0])\n",
    "no_of_columns=len(contingency_table.iloc[0,0:2])\n",
    "ddof=(no_of_rows-1)*(no_of_columns-1)\n",
    "print(\"Degree of Freedom:-\",ddof)\n",
    "alpha = 0.05\n",
    "from scipy.stats import chi2\n",
    "chi_square=sum([(o-e)**2./e for o,e in zip(Observed_Values,Expected_Values)])\n",
    "chi_square_statistic=chi_square[0]+chi_square[1]\n",
    "print(\"chi-square statistic:-\",chi_square_statistic)\n",
    "critical_value=chi2.ppf(q=1-alpha,df=ddof)\n",
    "print('critical_value:',critical_value)\n",
    "#p-value\n",
    "p_value=1-chi2.cdf(x=chi_square_statistic,df=ddof)\n",
    "print('p-value:',p_value)\n",
    "print('Significance level: ',alpha)\n",
    "print('Degree of Freedom: ',ddof)\n",
    "print('chi-square statistic:',chi_square_statistic)\n",
    "print('critical_value:',critical_value)\n",
    "print('p-value:',p_value)\n",
    "if chi_square_statistic>=critical_value:\n",
    "    print(\"Reject H0,There is a relationship between 2 categorical variables\")\n",
    "else:\n",
    "    print(\"Retain H0,There is no relationship between 2 categorical variables\")\n",
    "    \n",
    "if p_value<=alpha:\n",
    "    print(\"Reject H0,There is a relationship between 2 categorical variables\")\n",
    "else:\n",
    "    print(\"Retain H0,There is no relationship between 2 categorical variables\")"
   ]
  },
  {
   "cell_type": "code",
   "execution_count": null,
   "id": "da60a7b4",
   "metadata": {},
   "outputs": [],
   "source": []
  }
 ],
 "metadata": {
  "kernelspec": {
   "display_name": "Python 3 (ipykernel)",
   "language": "python",
   "name": "python3"
  },
  "language_info": {
   "codemirror_mode": {
    "name": "ipython",
    "version": 3
   },
   "file_extension": ".py",
   "mimetype": "text/x-python",
   "name": "python",
   "nbconvert_exporter": "python",
   "pygments_lexer": "ipython3",
   "version": "3.9.7"
  }
 },
 "nbformat": 4,
 "nbformat_minor": 5
}
