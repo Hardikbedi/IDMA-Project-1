{
 "cells": [
  {
   "cell_type": "markdown",
   "id": "c9a47971",
   "metadata": {},
   "source": [
    "## Project 1 : Case Study Retention Analysis "
   ]
  },
  {
   "cell_type": "markdown",
   "id": "904efb12",
   "metadata": {},
   "source": [
    "A Spanish Bank has been collecting data on multiple facets of customer behavior. Currently\n",
    "the data science team at the bank is trying to help in developing strategies to retain\n",
    "customers.\n",
    "A team of data warehousing experts have already collected data that the management\n",
    "thinks could be helpful in doing the relevant analysis.\n",
    "The dataset extracted has following variables:"
   ]
  },
  {
   "cell_type": "markdown",
   "id": "3ce1bbd6",
   "metadata": {},
   "source": [
    "This data has been extracted as a json file named ‘retention.json’. In order to study the\n",
    "behaviour of customers who become inactive, the data from datawarehouse was pulled for\n",
    "a duration of 6 months and within this duration it was observed which customers were\n",
    "active or inactive in the beginning of the six month window and which customers are\n",
    "active/inactive after the 6 month time window.\n",
    "You need to carry out the following tasks:"
   ]
  },
  {
   "cell_type": "markdown",
   "id": "2c7589b1",
   "metadata": {},
   "source": [
    "### Task 1. Data Quality Check"
   ]
  },
  {
   "cell_type": "markdown",
   "id": "97accec3",
   "metadata": {},
   "source": [
    "#### 1. Do you have all the relevant fields in the raw data file given to you?\n",
    "Yes"
   ]
  },
  {
   "cell_type": "markdown",
   "id": "3087520e",
   "metadata": {},
   "source": [
    "#### 2. Convert the given json data to a csv file"
   ]
  },
  {
   "cell_type": "code",
   "execution_count": 422,
   "id": "1b53e6fa",
   "metadata": {},
   "outputs": [],
   "source": [
    "import pandas as pd\n",
    "df = pd.read_json (r'E:\\HB^2\\Vired\\Project 1/retention.json', orient='index')\n",
    "df.to_csv (r'E:\\HB^2\\Vired\\Project 1/retention.csv', index = None)\n"
   ]
  },
  {
   "cell_type": "markdown",
   "id": "79056b19",
   "metadata": {},
   "source": [
    "#### 3. Create a data quality report (the format of this report must be decided by the learner) to check:"
   ]
  },
  {
   "cell_type": "markdown",
   "id": "21f4a2fb",
   "metadata": {},
   "source": [
    "##### a. The data type of each variable"
   ]
  },
  {
   "cell_type": "code",
   "execution_count": 37,
   "id": "d4e0635a",
   "metadata": {},
   "outputs": [
    {
     "data": {
      "text/plain": [
       "gender                   object\n",
       "age                      object\n",
       "gross_income             object\n",
       "segment                  object\n",
       "num_credit_cards          int64\n",
       "tiprel_1mes              object\n",
       "ind_actividad_cliente     int64\n",
       "num_Products              int64\n",
       "num_loans                 int64\n",
       "duration                  int64\n",
       "dtype: object"
      ]
     },
     "execution_count": 37,
     "metadata": {},
     "output_type": "execute_result"
    }
   ],
   "source": [
    "import pandas as pd\n",
    "df = pd.read_csv(\"E:\\HB^2\\Vired\\Project 1/retention.csv\",usecols = ['gender','age','gross_income','segment','num_credit_cards','tiprel_1mes','ind_actividad_cliente','num_Products','num_loans','duration'])\n",
    "df.dtypes"
   ]
  },
  {
   "cell_type": "markdown",
   "id": "4b64bff1",
   "metadata": {},
   "source": [
    "#### b. If a variable is numeric in nature, then, the numeric summary (Min, Max, Mean,25th percentile, Median, 75th percentile, 90th percentile, 95th percentile, number of zeros and number of unique values, number of missing values,percentage of missing values) must be computed"
   ]
  },
  {
   "cell_type": "markdown",
   "id": "2f973efd",
   "metadata": {},
   "source": [
    ">+ Finding Min\n"
   ]
  },
  {
   "cell_type": "code",
   "execution_count": 272,
   "id": "0021794f",
   "metadata": {},
   "outputs": [
    {
     "data": {
      "text/plain": [
       "num_credit_cards           0.0\n",
       "ind_actividad_cliente      0.0\n",
       "num_Products               0.0\n",
       "num_loans                  0.0\n",
       "duration                 366.0\n",
       "dtype: float64"
      ]
     },
     "execution_count": 272,
     "metadata": {},
     "output_type": "execute_result"
    }
   ],
   "source": [
    "import pandas as pd\n",
    "df = pd.read_csv(\"E:\\HB^2\\Vired\\Project 1/retention.csv\")\n",
    "num_vars=df.columns[df.dtypes != 'object']\n",
    "cat_vars=df.columns[df.dtypes == 'object']\n",
    "df[num_vars].min()"
   ]
  },
  {
   "cell_type": "markdown",
   "id": "fda983a7",
   "metadata": {},
   "source": [
    ">+ Finding Max"
   ]
  },
  {
   "cell_type": "code",
   "execution_count": 232,
   "id": "1a653140",
   "metadata": {
    "collapsed": true
   },
   "outputs": [
    {
     "data": {
      "text/plain": [
       "num_credit_cards            1.0\n",
       "ind_actividad_cliente       1.0\n",
       "num_Products               13.0\n",
       "num_loans                   1.0\n",
       "duration                 7909.0\n",
       "dtype: float64"
      ]
     },
     "execution_count": 232,
     "metadata": {},
     "output_type": "execute_result"
    }
   ],
   "source": [
    "import pandas as pd\n",
    "df = pd.read_csv(\"E:\\HB^2\\Vired\\Project 1/retention.csv\")\n",
    "num_vars=df.columns[df.dtypes != 'object']\n",
    "cat_vars=df.columns[df.dtypes == 'object']\n",
    "df[num_vars].max()"
   ]
  },
  {
   "cell_type": "markdown",
   "id": "2ca38d21",
   "metadata": {},
   "source": [
    ">+ Finding Mean"
   ]
  },
  {
   "cell_type": "code",
   "execution_count": 230,
   "id": "f64574ad",
   "metadata": {
    "collapsed": true
   },
   "outputs": [
    {
     "data": {
      "text/plain": [
       "num_credit_cards            0.049880\n",
       "ind_actividad_cliente       0.469072\n",
       "num_Products                1.536075\n",
       "num_loans                   0.009368\n",
       "duration                 2914.002388\n",
       "dtype: float64"
      ]
     },
     "execution_count": 230,
     "metadata": {},
     "output_type": "execute_result"
    }
   ],
   "source": [
    "import pandas as pd\n",
    "df = pd.read_csv(\"E:\\HB^2\\Vired\\Project 1/retention.csv\")\n",
    "num_vars=df.columns[df.dtypes != 'object']\n",
    "cat_vars=df.columns[df.dtypes == 'object']\n",
    "df[num_vars].mean()"
   ]
  },
  {
   "cell_type": "markdown",
   "id": "631d9cc9",
   "metadata": {},
   "source": [
    ">+ Finding the 25th Percentile"
   ]
  },
  {
   "cell_type": "code",
   "execution_count": 228,
   "id": "07fc4943",
   "metadata": {
    "collapsed": true
   },
   "outputs": [
    {
     "data": {
      "text/plain": [
       "num_credit_cards            0.0\n",
       "ind_actividad_cliente       0.0\n",
       "num_Products                1.0\n",
       "num_loans                   0.0\n",
       "duration                 1118.0\n",
       "Name: 0.25, dtype: float64"
      ]
     },
     "execution_count": 228,
     "metadata": {},
     "output_type": "execute_result"
    }
   ],
   "source": [
    "import pandas as pd\n",
    "df = pd.read_csv(\"E:\\HB^2\\Vired\\Project 1/retention.csv\")\n",
    "num_vars=df.columns[df.dtypes != 'object']\n",
    "cat_vars=df.columns[df.dtypes == 'object']\n",
    "df[num_vars].quantile(0.25)"
   ]
  },
  {
   "cell_type": "markdown",
   "id": "93f86a3e",
   "metadata": {},
   "source": [
    ">+ Finding Median"
   ]
  },
  {
   "cell_type": "code",
   "execution_count": 226,
   "id": "9ce6ddd7",
   "metadata": {
    "collapsed": true
   },
   "outputs": [
    {
     "data": {
      "text/plain": [
       "num_credit_cards            0.0\n",
       "ind_actividad_cliente       0.0\n",
       "num_Products                1.0\n",
       "num_loans                   0.0\n",
       "duration                 2040.0\n",
       "dtype: float64"
      ]
     },
     "execution_count": 226,
     "metadata": {},
     "output_type": "execute_result"
    }
   ],
   "source": [
    "import pandas as pd\n",
    "df = pd.read_csv(\"E:\\HB^2\\Vired\\Project 1/retention.csv\")\n",
    "num_vars=df.columns[df.dtypes != 'object']\n",
    "cat_vars=df.columns[df.dtypes == 'object']\n",
    "df[num_vars].median()"
   ]
  },
  {
   "cell_type": "markdown",
   "id": "673391b3",
   "metadata": {},
   "source": [
    ">+ Finding the 75th Percentile"
   ]
  },
  {
   "cell_type": "code",
   "execution_count": 223,
   "id": "c86025bd",
   "metadata": {
    "collapsed": true
   },
   "outputs": [
    {
     "data": {
      "text/plain": [
       "num_credit_cards            0.0\n",
       "ind_actividad_cliente       1.0\n",
       "num_Products                2.0\n",
       "num_loans                   0.0\n",
       "duration                 4693.0\n",
       "Name: 0.75, dtype: float64"
      ]
     },
     "execution_count": 223,
     "metadata": {},
     "output_type": "execute_result"
    }
   ],
   "source": [
    "import pandas as pd\n",
    "df = pd.read_csv(\"E:\\HB^2\\Vired\\Project 1/retention.csv\")\n",
    "num_vars=df.columns[df.dtypes != 'object']\n",
    "cat_vars=df.columns[df.dtypes == 'object']\n",
    "df[num_vars].quantile(0.75)"
   ]
  },
  {
   "cell_type": "markdown",
   "id": "4f87de9e",
   "metadata": {},
   "source": [
    ">+ Finding the 90th Percentile"
   ]
  },
  {
   "cell_type": "code",
   "execution_count": 221,
   "id": "689225e2",
   "metadata": {
    "collapsed": true
   },
   "outputs": [
    {
     "data": {
      "text/plain": [
       "num_credit_cards            0.0\n",
       "ind_actividad_cliente       1.0\n",
       "num_Products                3.0\n",
       "num_loans                   0.0\n",
       "duration                 5844.0\n",
       "Name: 0.9, dtype: float64"
      ]
     },
     "execution_count": 221,
     "metadata": {},
     "output_type": "execute_result"
    }
   ],
   "source": [
    "import pandas as pd\n",
    "df = pd.read_csv(\"E:\\HB^2\\Vired\\Project 1/retention.csv\")\n",
    "num_vars=df.columns[df.dtypes != 'object']\n",
    "cat_vars=df.columns[df.dtypes == 'object']\n",
    "df[num_vars].quantile(0.90)"
   ]
  },
  {
   "cell_type": "markdown",
   "id": "49731f0f",
   "metadata": {},
   "source": [
    ">+ Finding the 95th Percentile"
   ]
  },
  {
   "cell_type": "code",
   "execution_count": 219,
   "id": "a410f6b9",
   "metadata": {
    "collapsed": true
   },
   "outputs": [
    {
     "data": {
      "text/plain": [
       "num_credit_cards            0.0\n",
       "ind_actividad_cliente       1.0\n",
       "num_Products                5.0\n",
       "num_loans                   0.0\n",
       "duration                 6529.0\n",
       "Name: 0.95, dtype: float64"
      ]
     },
     "execution_count": 219,
     "metadata": {},
     "output_type": "execute_result"
    }
   ],
   "source": [
    "import pandas as pd\n",
    "df = pd.read_csv(\"E:\\HB^2\\Vired\\Project 1/retention.csv\")\n",
    "num_vars=df.columns[df.dtypes != 'object']\n",
    "cat_vars=df.columns[df.dtypes == 'object']\n",
    "df[num_vars].quantile(0.95)"
   ]
  },
  {
   "cell_type": "markdown",
   "id": "9916586b",
   "metadata": {},
   "source": [
    ">+ Finding the number of uniue values"
   ]
  },
  {
   "cell_type": "code",
   "execution_count": 218,
   "id": "2e056b56",
   "metadata": {},
   "outputs": [
    {
     "data": {
      "text/plain": [
       "num_credit_cards            2\n",
       "ind_actividad_cliente       2\n",
       "num_Products               14\n",
       "num_loans                   2\n",
       "duration                 5677\n",
       "dtype: int64"
      ]
     },
     "execution_count": 218,
     "metadata": {},
     "output_type": "execute_result"
    }
   ],
   "source": [
    "import pandas as pd\n",
    "df = pd.read_csv(\"E:\\HB^2\\Vired\\Project 1/retention.csv\")\n",
    "num_vars=df.columns[df.dtypes != 'object']\n",
    "cat_vars=df.columns[df.dtypes == 'object']\n",
    "df[num_vars].nunique()"
   ]
  },
  {
   "cell_type": "markdown",
   "id": "3d33acea",
   "metadata": {},
   "source": [
    ">+ Finding the number of missing values"
   ]
  },
  {
   "cell_type": "code",
   "execution_count": 275,
   "id": "9b5e970b",
   "metadata": {},
   "outputs": [
    {
     "name": "stdout",
     "output_type": "stream",
     "text": [
      "num_credit_cards         0\n",
      "ind_actividad_cliente    0\n",
      "num_Products             0\n",
      "num_loans                0\n",
      "duration                 0\n",
      "dtype: int64\n"
     ]
    }
   ],
   "source": [
    "# Finding no. of missing values\n",
    "import pandas as pd\n",
    "num_vars=df.columns[df.dtypes != 'object']\n",
    "cat_vars=df.columns[df.dtypes == 'object']\n",
    "df = pd.read_csv(\"E:\\HB^2\\Vired\\Project 1/retention.csv\")\n",
    "print(df[num_vars].isnull().sum())\n"
   ]
  },
  {
   "cell_type": "markdown",
   "id": "e02442c5",
   "metadata": {},
   "source": [
    ">+ Finding the percentage of missing values"
   ]
  },
  {
   "cell_type": "code",
   "execution_count": 273,
   "id": "9b8ec54d",
   "metadata": {},
   "outputs": [
    {
     "data": {
      "text/plain": [
       "duration                 0.012956\n",
       "num_Products             0.005552\n",
       "num_loans                0.005552\n",
       "num_credit_cards         0.000000\n",
       "ind_actividad_cliente    0.000000\n",
       "dtype: float64"
      ]
     },
     "execution_count": 273,
     "metadata": {},
     "output_type": "execute_result"
    }
   ],
   "source": [
    "import pandas as pd\n",
    "num_vars=df.columns[df.dtypes != 'object']\n",
    "cat_vars=df.columns[df.dtypes == 'object']\n",
    "df = pd.read_csv(\"E:\\HB^2\\Vired\\Project 1/retention.csv\")\n",
    "((df[num_vars].isnull().sum().sort_values(ascending=False))/len(df))*100\n"
   ]
  },
  {
   "cell_type": "markdown",
   "id": "35980632",
   "metadata": {},
   "source": [
    ">+ Finding the number of Zeroes"
   ]
  },
  {
   "cell_type": "code",
   "execution_count": 216,
   "id": "9fbc9bda",
   "metadata": {},
   "outputs": [
    {
     "data": {
      "text/plain": [
       "num_credit_cards         51335\n",
       "ind_actividad_cliente    28677\n",
       "num_Products              9569\n",
       "num_loans                53507\n",
       "duration                     0\n",
       "dtype: int64"
      ]
     },
     "execution_count": 216,
     "metadata": {},
     "output_type": "execute_result"
    }
   ],
   "source": [
    "import pandas as pd\n",
    "num_vars=df.columns[df.dtypes != 'object']\n",
    "cat_vars=df.columns[df.dtypes == 'object']\n",
    "df = pd.read_csv(\"E:\\HB^2\\Vired\\Project 1/retention.csv\")\n",
    "\n",
    "(df[num_vars]== 0).sum()"
   ]
  },
  {
   "cell_type": "markdown",
   "id": "7efa4e3f",
   "metadata": {},
   "source": [
    "#### b. If a variable is string variable, then find out the number of unique values,number of missing values, percentage of missing values."
   ]
  },
  {
   "cell_type": "markdown",
   "id": "96eee781",
   "metadata": {},
   "source": [
    ">+ Finding the number of uniue values"
   ]
  },
  {
   "cell_type": "code",
   "execution_count": 214,
   "id": "5024448c",
   "metadata": {
    "collapsed": true
   },
   "outputs": [
    {
     "data": {
      "text/plain": [
       "gender              2\n",
       "age               110\n",
       "gross_income    49994\n",
       "segment             3\n",
       "tiprel_1mes         2\n",
       "dtype: int64"
      ]
     },
     "execution_count": 214,
     "metadata": {},
     "output_type": "execute_result"
    }
   ],
   "source": [
    "import pandas as pd\n",
    "df = pd.read_csv(\"E:\\HB^2\\Vired\\Project 1/retention.csv\")\n",
    "num_vars=df.columns[df.dtypes != 'object']\n",
    "cat_vars=df.columns[df.dtypes == 'object']\n",
    "df[cat_vars].nunique()"
   ]
  },
  {
   "cell_type": "markdown",
   "id": "135f2533",
   "metadata": {},
   "source": [
    ">+ Finding the number of missing values"
   ]
  },
  {
   "cell_type": "code",
   "execution_count": 215,
   "id": "b37ab84c",
   "metadata": {
    "collapsed": true
   },
   "outputs": [
    {
     "name": "stdout",
     "output_type": "stream",
     "text": [
      "gender           0\n",
      "age              0\n",
      "gross_income     0\n",
      "segment          0\n",
      "tiprel_1mes     17\n",
      "dtype: int64\n"
     ]
    }
   ],
   "source": [
    "import pandas as pd\n",
    "num_vars=df.columns[df.dtypes != 'object']\n",
    "cat_vars=df.columns[df.dtypes == 'object']\n",
    "df = pd.read_csv(\"E:\\HB^2\\Vired\\Project 1/retention.csv\")\n",
    "print(df[cat_vars].isnull().sum())"
   ]
  },
  {
   "cell_type": "markdown",
   "id": "ccaac095",
   "metadata": {},
   "source": [
    ">+ Finding the percentage of missing values"
   ]
  },
  {
   "cell_type": "code",
   "execution_count": 208,
   "id": "899d26f7",
   "metadata": {
    "collapsed": true
   },
   "outputs": [
    {
     "data": {
      "text/plain": [
       "tiprel_1mes     0.031464\n",
       "gender          0.000000\n",
       "age             0.000000\n",
       "gross_income    0.000000\n",
       "segment         0.000000\n",
       "dtype: float64"
      ]
     },
     "execution_count": 208,
     "metadata": {},
     "output_type": "execute_result"
    }
   ],
   "source": [
    "import pandas as pd\n",
    "num_vars=df.columns[df.dtypes != 'object']\n",
    "cat_vars=df.columns[df.dtypes == 'object']\n",
    "df = pd.read_csv(\"E:\\HB^2\\Vired\\Project 1/retention.csv\")\n",
    "((df[cat_vars].isnull().sum().sort_values(ascending=False))/len(df))*100"
   ]
  },
  {
   "cell_type": "markdown",
   "id": "6160da22",
   "metadata": {},
   "source": [
    "#### 4. After the data quality report is created you need to :"
   ]
  },
  {
   "cell_type": "markdown",
   "id": "773be235",
   "metadata": {},
   "source": [
    "##### a. Check if there is any variable whose data-type needs to be changed"
   ]
  },
  {
   "cell_type": "code",
   "execution_count": 424,
   "id": "dd755c6c",
   "metadata": {},
   "outputs": [
    {
     "data": {
      "text/html": [
       "<div>\n",
       "<style scoped>\n",
       "    .dataframe tbody tr th:only-of-type {\n",
       "        vertical-align: middle;\n",
       "    }\n",
       "\n",
       "    .dataframe tbody tr th {\n",
       "        vertical-align: top;\n",
       "    }\n",
       "\n",
       "    .dataframe thead th {\n",
       "        text-align: right;\n",
       "    }\n",
       "</style>\n",
       "<table border=\"1\" class=\"dataframe\">\n",
       "  <thead>\n",
       "    <tr style=\"text-align: right;\">\n",
       "      <th></th>\n",
       "      <th>gender</th>\n",
       "      <th>age</th>\n",
       "      <th>gross_income</th>\n",
       "      <th>segment</th>\n",
       "      <th>num_credit_cards</th>\n",
       "      <th>tiprel_1mes</th>\n",
       "      <th>ind_actividad_cliente</th>\n",
       "      <th>num_Products</th>\n",
       "      <th>num_loans</th>\n",
       "      <th>duration</th>\n",
       "    </tr>\n",
       "  </thead>\n",
       "  <tbody>\n",
       "    <tr>\n",
       "      <th>0</th>\n",
       "      <td>M</td>\n",
       "      <td>21</td>\n",
       "      <td>79070.91</td>\n",
       "      <td>Individuals</td>\n",
       "      <td>0</td>\n",
       "      <td>I</td>\n",
       "      <td>0</td>\n",
       "      <td>1</td>\n",
       "      <td>0</td>\n",
       "      <td>1035</td>\n",
       "    </tr>\n",
       "    <tr>\n",
       "      <th>1</th>\n",
       "      <td>M</td>\n",
       "      <td>23</td>\n",
       "      <td>178270.68</td>\n",
       "      <td>College_Graduated</td>\n",
       "      <td>0</td>\n",
       "      <td>I</td>\n",
       "      <td>0</td>\n",
       "      <td>1</td>\n",
       "      <td>0</td>\n",
       "      <td>1097</td>\n",
       "    </tr>\n",
       "    <tr>\n",
       "      <th>2</th>\n",
       "      <td>M</td>\n",
       "      <td>24</td>\n",
       "      <td>31243.56</td>\n",
       "      <td>College_Graduated</td>\n",
       "      <td>0</td>\n",
       "      <td>I</td>\n",
       "      <td>1</td>\n",
       "      <td>1</td>\n",
       "      <td>0</td>\n",
       "      <td>1866</td>\n",
       "    </tr>\n",
       "    <tr>\n",
       "      <th>3</th>\n",
       "      <td>M</td>\n",
       "      <td>24</td>\n",
       "      <td>130740.54</td>\n",
       "      <td>College_Graduated</td>\n",
       "      <td>0</td>\n",
       "      <td>I</td>\n",
       "      <td>0</td>\n",
       "      <td>1</td>\n",
       "      <td>0</td>\n",
       "      <td>1440</td>\n",
       "    </tr>\n",
       "    <tr>\n",
       "      <th>4</th>\n",
       "      <td>M</td>\n",
       "      <td>31</td>\n",
       "      <td>112975.17</td>\n",
       "      <td>Individuals</td>\n",
       "      <td>0</td>\n",
       "      <td>I</td>\n",
       "      <td>0</td>\n",
       "      <td>0</td>\n",
       "      <td>0</td>\n",
       "      <td>376</td>\n",
       "    </tr>\n",
       "    <tr>\n",
       "      <th>...</th>\n",
       "      <td>...</td>\n",
       "      <td>...</td>\n",
       "      <td>...</td>\n",
       "      <td>...</td>\n",
       "      <td>...</td>\n",
       "      <td>...</td>\n",
       "      <td>...</td>\n",
       "      <td>...</td>\n",
       "      <td>...</td>\n",
       "      <td>...</td>\n",
       "    </tr>\n",
       "    <tr>\n",
       "      <th>54025</th>\n",
       "      <td>M</td>\n",
       "      <td>24</td>\n",
       "      <td>47237.01</td>\n",
       "      <td>College_Graduated</td>\n",
       "      <td>0</td>\n",
       "      <td>I</td>\n",
       "      <td>1</td>\n",
       "      <td>1</td>\n",
       "      <td>0</td>\n",
       "      <td>1147</td>\n",
       "    </tr>\n",
       "    <tr>\n",
       "      <th>54026</th>\n",
       "      <td>F</td>\n",
       "      <td>46</td>\n",
       "      <td>106930.05</td>\n",
       "      <td>Individuals</td>\n",
       "      <td>1</td>\n",
       "      <td>A</td>\n",
       "      <td>1</td>\n",
       "      <td>8</td>\n",
       "      <td>0</td>\n",
       "      <td>6061</td>\n",
       "    </tr>\n",
       "    <tr>\n",
       "      <th>54027</th>\n",
       "      <td>M</td>\n",
       "      <td>24</td>\n",
       "      <td>185323.05</td>\n",
       "      <td>College_Graduated</td>\n",
       "      <td>0</td>\n",
       "      <td>I</td>\n",
       "      <td>0</td>\n",
       "      <td>0</td>\n",
       "      <td>0</td>\n",
       "      <td>1817</td>\n",
       "    </tr>\n",
       "    <tr>\n",
       "      <th>54028</th>\n",
       "      <td>F</td>\n",
       "      <td>27</td>\n",
       "      <td>65246.79</td>\n",
       "      <td>College_Graduated</td>\n",
       "      <td>0</td>\n",
       "      <td>I</td>\n",
       "      <td>0</td>\n",
       "      <td>1</td>\n",
       "      <td>0</td>\n",
       "      <td>1447</td>\n",
       "    </tr>\n",
       "    <tr>\n",
       "      <th>54029</th>\n",
       "      <td>M</td>\n",
       "      <td>20</td>\n",
       "      <td>180678.48</td>\n",
       "      <td>College_Graduated</td>\n",
       "      <td>0</td>\n",
       "      <td>A</td>\n",
       "      <td>0</td>\n",
       "      <td>1</td>\n",
       "      <td>0</td>\n",
       "      <td>366</td>\n",
       "    </tr>\n",
       "  </tbody>\n",
       "</table>\n",
       "<p>54030 rows × 10 columns</p>\n",
       "</div>"
      ],
      "text/plain": [
       "      gender  age  gross_income            segment  num_credit_cards  \\\n",
       "0          M   21      79070.91        Individuals                 0   \n",
       "1          M   23     178270.68  College_Graduated                 0   \n",
       "2          M   24      31243.56  College_Graduated                 0   \n",
       "3          M   24     130740.54  College_Graduated                 0   \n",
       "4          M   31     112975.17        Individuals                 0   \n",
       "...      ...  ...           ...                ...               ...   \n",
       "54025      M   24      47237.01  College_Graduated                 0   \n",
       "54026      F   46     106930.05        Individuals                 1   \n",
       "54027      M   24     185323.05  College_Graduated                 0   \n",
       "54028      F   27      65246.79  College_Graduated                 0   \n",
       "54029      M   20     180678.48  College_Graduated                 0   \n",
       "\n",
       "      tiprel_1mes  ind_actividad_cliente  num_Products  num_loans  duration  \n",
       "0               I                      0             1          0      1035  \n",
       "1               I                      0             1          0      1097  \n",
       "2               I                      1             1          0      1866  \n",
       "3               I                      0             1          0      1440  \n",
       "4               I                      0             0          0       376  \n",
       "...           ...                    ...           ...        ...       ...  \n",
       "54025           I                      1             1          0      1147  \n",
       "54026           A                      1             8          0      6061  \n",
       "54027           I                      0             0          0      1817  \n",
       "54028           I                      0             1          0      1447  \n",
       "54029           A                      0             1          0       366  \n",
       "\n",
       "[54030 rows x 10 columns]"
      ]
     },
     "execution_count": 424,
     "metadata": {},
     "output_type": "execute_result"
    }
   ],
   "source": [
    "import pandas as pd\n",
    "import numpy as np\n",
    "num_vars=df.columns[df.dtypes != 'object']\n",
    "cat_vars=df.columns[df.dtypes == 'object']\n",
    "df = pd.read_csv(\"E:\\HB^2\\Vired\\Project 1/retention.csv\")\n",
    "\n",
    "# Eliminating years and dollar sign from the columns\n",
    "df['age'] = df['age'].str.replace('years', '')\n",
    "df['gross_income'] = df['gross_income'].str.replace('$', '')\n",
    "\n",
    "# Changing age and Gross income \"data type\".\n",
    "df['age'] = df.age.astype(int)\n",
    "df['gross_income'] = df.gross_income.astype(float)\n",
    "df"
   ]
  },
  {
   "cell_type": "markdown",
   "id": "cd648fc3",
   "metadata": {},
   "source": [
    "##### b. Identify the type of data cleaning needed for different columns in the data"
   ]
  },
  {
   "cell_type": "code",
   "execution_count": 440,
   "id": "b184bf2b",
   "metadata": {},
   "outputs": [
    {
     "data": {
      "text/html": [
       "<div>\n",
       "<style scoped>\n",
       "    .dataframe tbody tr th:only-of-type {\n",
       "        vertical-align: middle;\n",
       "    }\n",
       "\n",
       "    .dataframe tbody tr th {\n",
       "        vertical-align: top;\n",
       "    }\n",
       "\n",
       "    .dataframe thead th {\n",
       "        text-align: right;\n",
       "    }\n",
       "</style>\n",
       "<table border=\"1\" class=\"dataframe\">\n",
       "  <thead>\n",
       "    <tr style=\"text-align: right;\">\n",
       "      <th></th>\n",
       "      <th>Gender</th>\n",
       "      <th>Age</th>\n",
       "      <th>Annual Income</th>\n",
       "      <th>Segment</th>\n",
       "      <th>No._of_Credit_Cards</th>\n",
       "      <th>Cust_Inactivity_Flag_at_Beg</th>\n",
       "      <th>Cust_Inactivity_Flag_at_End</th>\n",
       "      <th>Num_Products</th>\n",
       "      <th>Num_loans</th>\n",
       "      <th>Duration</th>\n",
       "    </tr>\n",
       "  </thead>\n",
       "  <tbody>\n",
       "    <tr>\n",
       "      <th>0</th>\n",
       "      <td>M</td>\n",
       "      <td>21</td>\n",
       "      <td>79070.91</td>\n",
       "      <td>Individuals</td>\n",
       "      <td>0</td>\n",
       "      <td>0</td>\n",
       "      <td>0</td>\n",
       "      <td>1</td>\n",
       "      <td>0</td>\n",
       "      <td>1035</td>\n",
       "    </tr>\n",
       "    <tr>\n",
       "      <th>1</th>\n",
       "      <td>M</td>\n",
       "      <td>23</td>\n",
       "      <td>178270.68</td>\n",
       "      <td>College_Graduated</td>\n",
       "      <td>0</td>\n",
       "      <td>0</td>\n",
       "      <td>0</td>\n",
       "      <td>1</td>\n",
       "      <td>0</td>\n",
       "      <td>1097</td>\n",
       "    </tr>\n",
       "    <tr>\n",
       "      <th>2</th>\n",
       "      <td>M</td>\n",
       "      <td>24</td>\n",
       "      <td>31243.56</td>\n",
       "      <td>College_Graduated</td>\n",
       "      <td>0</td>\n",
       "      <td>0</td>\n",
       "      <td>1</td>\n",
       "      <td>1</td>\n",
       "      <td>0</td>\n",
       "      <td>1866</td>\n",
       "    </tr>\n",
       "    <tr>\n",
       "      <th>3</th>\n",
       "      <td>M</td>\n",
       "      <td>24</td>\n",
       "      <td>130740.54</td>\n",
       "      <td>College_Graduated</td>\n",
       "      <td>0</td>\n",
       "      <td>0</td>\n",
       "      <td>0</td>\n",
       "      <td>1</td>\n",
       "      <td>0</td>\n",
       "      <td>1440</td>\n",
       "    </tr>\n",
       "    <tr>\n",
       "      <th>4</th>\n",
       "      <td>M</td>\n",
       "      <td>31</td>\n",
       "      <td>112975.17</td>\n",
       "      <td>Individuals</td>\n",
       "      <td>0</td>\n",
       "      <td>0</td>\n",
       "      <td>0</td>\n",
       "      <td>0</td>\n",
       "      <td>0</td>\n",
       "      <td>376</td>\n",
       "    </tr>\n",
       "    <tr>\n",
       "      <th>...</th>\n",
       "      <td>...</td>\n",
       "      <td>...</td>\n",
       "      <td>...</td>\n",
       "      <td>...</td>\n",
       "      <td>...</td>\n",
       "      <td>...</td>\n",
       "      <td>...</td>\n",
       "      <td>...</td>\n",
       "      <td>...</td>\n",
       "      <td>...</td>\n",
       "    </tr>\n",
       "    <tr>\n",
       "      <th>54025</th>\n",
       "      <td>M</td>\n",
       "      <td>24</td>\n",
       "      <td>47237.01</td>\n",
       "      <td>College_Graduated</td>\n",
       "      <td>0</td>\n",
       "      <td>0</td>\n",
       "      <td>1</td>\n",
       "      <td>1</td>\n",
       "      <td>0</td>\n",
       "      <td>1147</td>\n",
       "    </tr>\n",
       "    <tr>\n",
       "      <th>54026</th>\n",
       "      <td>F</td>\n",
       "      <td>46</td>\n",
       "      <td>106930.05</td>\n",
       "      <td>Individuals</td>\n",
       "      <td>1</td>\n",
       "      <td>1</td>\n",
       "      <td>1</td>\n",
       "      <td>8</td>\n",
       "      <td>0</td>\n",
       "      <td>6061</td>\n",
       "    </tr>\n",
       "    <tr>\n",
       "      <th>54027</th>\n",
       "      <td>M</td>\n",
       "      <td>24</td>\n",
       "      <td>185323.05</td>\n",
       "      <td>College_Graduated</td>\n",
       "      <td>0</td>\n",
       "      <td>0</td>\n",
       "      <td>0</td>\n",
       "      <td>0</td>\n",
       "      <td>0</td>\n",
       "      <td>1817</td>\n",
       "    </tr>\n",
       "    <tr>\n",
       "      <th>54028</th>\n",
       "      <td>F</td>\n",
       "      <td>27</td>\n",
       "      <td>65246.79</td>\n",
       "      <td>College_Graduated</td>\n",
       "      <td>0</td>\n",
       "      <td>0</td>\n",
       "      <td>0</td>\n",
       "      <td>1</td>\n",
       "      <td>0</td>\n",
       "      <td>1447</td>\n",
       "    </tr>\n",
       "    <tr>\n",
       "      <th>54029</th>\n",
       "      <td>M</td>\n",
       "      <td>20</td>\n",
       "      <td>180678.48</td>\n",
       "      <td>College_Graduated</td>\n",
       "      <td>0</td>\n",
       "      <td>1</td>\n",
       "      <td>0</td>\n",
       "      <td>1</td>\n",
       "      <td>0</td>\n",
       "      <td>366</td>\n",
       "    </tr>\n",
       "  </tbody>\n",
       "</table>\n",
       "<p>54030 rows × 10 columns</p>\n",
       "</div>"
      ],
      "text/plain": [
       "      Gender  Age  Annual Income            Segment  No._of_Credit_Cards  \\\n",
       "0          M   21       79070.91        Individuals                    0   \n",
       "1          M   23      178270.68  College_Graduated                    0   \n",
       "2          M   24       31243.56  College_Graduated                    0   \n",
       "3          M   24      130740.54  College_Graduated                    0   \n",
       "4          M   31      112975.17        Individuals                    0   \n",
       "...      ...  ...            ...                ...                  ...   \n",
       "54025      M   24       47237.01  College_Graduated                    0   \n",
       "54026      F   46      106930.05        Individuals                    1   \n",
       "54027      M   24      185323.05  College_Graduated                    0   \n",
       "54028      F   27       65246.79  College_Graduated                    0   \n",
       "54029      M   20      180678.48  College_Graduated                    0   \n",
       "\n",
       "      Cust_Inactivity_Flag_at_Beg  Cust_Inactivity_Flag_at_End  Num_Products  \\\n",
       "0                               0                            0             1   \n",
       "1                               0                            0             1   \n",
       "2                               0                            1             1   \n",
       "3                               0                            0             1   \n",
       "4                               0                            0             0   \n",
       "...                           ...                          ...           ...   \n",
       "54025                           0                            1             1   \n",
       "54026                           1                            1             8   \n",
       "54027                           0                            0             0   \n",
       "54028                           0                            0             1   \n",
       "54029                           1                            0             1   \n",
       "\n",
       "       Num_loans  Duration  \n",
       "0              0      1035  \n",
       "1              0      1097  \n",
       "2              0      1866  \n",
       "3              0      1440  \n",
       "4              0       376  \n",
       "...          ...       ...  \n",
       "54025          0      1147  \n",
       "54026          0      6061  \n",
       "54027          0      1817  \n",
       "54028          0      1447  \n",
       "54029          0       366  \n",
       "\n",
       "[54030 rows x 10 columns]"
      ]
     },
     "execution_count": 440,
     "metadata": {},
     "output_type": "execute_result"
    }
   ],
   "source": [
    "import pandas as pd\n",
    "import numpy as np\n",
    "num_vars=df.columns[df.dtypes != 'object']\n",
    "cat_vars=df.columns[df.dtypes == 'object']\n",
    "\n",
    "# Changing the names of Columns for easy reference\n",
    "df.rename(columns = {'gender':'Gender'}, inplace = True)\n",
    "df.rename(columns = {'age':'Age'}, inplace = True)\n",
    "df.rename(columns = {'gross_income':'Annual Income'}, inplace = True)\n",
    "df.rename(columns = {'segment':'Segment'}, inplace = True)\n",
    "df.rename(columns = {'num_credit_cards':'No._of_Credit_Cards'}, inplace = True)\n",
    "df.rename(columns = {'tiprel_1mes':'Cust_Inactivity_Flag_at_Beg'}, inplace = True)\n",
    "df.rename(columns = {'ind_actividad_cliente':'Cust_Inactivity_Flag_at_End'}, inplace = True)\n",
    "df.rename(columns = {'num_loans':'Num_loans'}, inplace = True)\n",
    "df.rename(columns = {'duration':'Duration'}, inplace = True)\n",
    "df.rename(columns = {'num_Products':'Num_Products'}, inplace = True)\n",
    "\n",
    "# Maintaing uniformity of Customer In-activity data\n",
    "df['Cust_Inactivity_Flag_at_Beg'] = df['Cust_Inactivity_Flag_at_Beg'].str.replace('A', '1')\n",
    "df['Cust_Inactivity_Flag_at_Beg'] = df['Cust_Inactivity_Flag_at_Beg'].str.replace('I', '0')\n",
    "df\n",
    "\n"
   ]
  },
  {
   "cell_type": "markdown",
   "id": "20cca10e",
   "metadata": {},
   "source": [
    "##### c. Handle missing data appropriately"
   ]
  },
  {
   "cell_type": "code",
   "execution_count": 427,
   "id": "6e485688",
   "metadata": {},
   "outputs": [
    {
     "name": "stdout",
     "output_type": "stream",
     "text": [
      "gender                         0\n",
      "Age                            0\n",
      "gross_income                   0\n",
      "Segment                        0\n",
      "No._of_Credit_Cards            0\n",
      "Cust_Inactivity_Flag_at_Beg    0\n",
      "Cust_Inactivity_Flag_at_End    0\n",
      "Num_Products                   0\n",
      "Num_loans                      0\n",
      "Duration                       0\n",
      "dtype: int64\n"
     ]
    }
   ],
   "source": [
    "import pandas as pd\n",
    "import numpy as np\n",
    "\n",
    "# understanding if value is missing or not\n",
    "print(df.isnull().sum())\n",
    "\n",
    "# Dropping Values with Default Arguments\n",
    "df = df.dropna()\n",
    "\n",
    "# Dropping Records Only if All Records are Missing\n",
    "#df = df.dropna(how='all')\n",
    "\n",
    "# Using .fillna() to Fill Missing Data with 0\n",
    "#df = df.fillna(0)\n",
    "\n"
   ]
  },
  {
   "cell_type": "markdown",
   "id": "9029195a",
   "metadata": {},
   "source": [
    "##### d. In case there are extreme values present in a variable do the appropriate treatment."
   ]
  },
  {
   "cell_type": "code",
   "execution_count": null,
   "id": "45943e41",
   "metadata": {},
   "outputs": [],
   "source": [
    "check for the age and active and in active values"
   ]
  },
  {
   "cell_type": "code",
   "execution_count": 350,
   "id": "96af062d",
   "metadata": {},
   "outputs": [
    {
     "data": {
      "text/html": [
       "<div>\n",
       "<style scoped>\n",
       "    .dataframe tbody tr th:only-of-type {\n",
       "        vertical-align: middle;\n",
       "    }\n",
       "\n",
       "    .dataframe tbody tr th {\n",
       "        vertical-align: top;\n",
       "    }\n",
       "\n",
       "    .dataframe thead th {\n",
       "        text-align: right;\n",
       "    }\n",
       "</style>\n",
       "<table border=\"1\" class=\"dataframe\">\n",
       "  <thead>\n",
       "    <tr style=\"text-align: right;\">\n",
       "      <th></th>\n",
       "    </tr>\n",
       "  </thead>\n",
       "  <tbody>\n",
       "  </tbody>\n",
       "</table>\n",
       "</div>"
      ],
      "text/plain": [
       "Empty DataFrame\n",
       "Columns: []\n",
       "Index: []"
      ]
     },
     "execution_count": 350,
     "metadata": {},
     "output_type": "execute_result"
    }
   ],
   "source": [
    "import pandas as pd\n",
    "import numpy as np\n",
    "import matplotlib.pyplot as plt\n",
    "import seaborn as sns\n",
    "%matplotlib inline\n",
    "import warnings\n",
    "warnings.filterwarnings('ignore')\n",
    "import statsmodels.api as sm\n",
    "df = pd.read_csv(\"E:\\HB^2\\Vired\\Project 1/retention.csv\")\n"
   ]
  },
  {
   "cell_type": "markdown",
   "id": "fdfe4235",
   "metadata": {},
   "source": [
    "### Task 2. Data Exploration and Business Hypothesis Testing"
   ]
  },
  {
   "cell_type": "markdown",
   "id": "ef3bd36d",
   "metadata": {},
   "source": [
    "#### 1. For people who were inactive at the start of the study and were active by the time the study ended, is there a pattern in terms of age and gender?"
   ]
  },
  {
   "cell_type": "code",
   "execution_count": 452,
   "id": "1db1ba8e",
   "metadata": {},
   "outputs": [
    {
     "data": {
      "image/png": "[encoded data removed]",
      "text/plain": [
       "<Figure size 720x504 with 1 Axes>"
      ]
     },
     "metadata": {
      "needs_background": "light"
     },
     "output_type": "display_data"
    }
   ],
   "source": [
    "import matplotlib.pyplot as plt\n",
    "\n",
    "# histogram of the age - males and females\n",
    "\n",
    "df[df['Gender'] == 'M'].Age.plot(kind='hist', color='blue', edgecolor='black', alpha=0.5, figsize=(10, 7))\n",
    "df[df['Gender'] == 'F'].Age.plot(kind='hist', color='magenta', edgecolor='black', alpha=0.5, figsize=(10, 7))\n",
    "plt.legend(labels=['M', 'F'])\n",
    "plt.title('Distribution of Age', size=24)\n",
    "plt.xlabel('Age (Kgs)', size=18)\n",
    "plt.ylabel('Frequency', size=18);\n"
   ]
  },
  {
   "cell_type": "code",
   "execution_count": 453,
   "id": "93e07774",
   "metadata": {},
   "outputs": [
    {
     "data": {
      "image/png": "[encoded data removed]",
      "text/plain": [
       "<Figure size 720x504 with 1 Axes>"
      ]
     },
     "metadata": {
      "needs_background": "light"
     },
     "output_type": "display_data"
    }
   ],
   "source": [
    "\n",
    "# Scatter plot of 500 females\n",
    "\n",
    "sample_females = df[df['Gender'] == 'F'].sample(500)\n",
    "sample_females.plot(kind='scatter', x='Age', y='Cust_Inactivity_Flag_at_Beg', color='magenta', alpha=0.5, figsize=(10, 7))\n",
    "plt.legend(labels=['Females'])\n",
    "plt.title('Relationship between Height and Weight (sample of 500 females)', size=20)\n",
    "plt.xlabel('Age (inches)', size=18)\n",
    "plt.ylabel('Cust_Inactivity_Flag_at_Beg (pounds)', size=18);"
   ]
  },
  {
   "cell_type": "code",
   "execution_count": null,
   "id": "d96250a9",
   "metadata": {},
   "outputs": [],
   "source": []
  }
 ],
 "metadata": {
  "kernelspec": {
   "display_name": "Python 3 (ipykernel)",
   "language": "python",
   "name": "python3"
  },
  "language_info": {
   "codemirror_mode": {
    "name": "ipython",
    "version": 3
   },
   "file_extension": ".py",
   "mimetype": "text/x-python",
   "name": "python",
   "nbconvert_exporter": "python",
   "pygments_lexer": "ipython3",
   "version": "3.9.7"
  }
 },
 "nbformat": 4,
 "nbformat_minor": 5
}
